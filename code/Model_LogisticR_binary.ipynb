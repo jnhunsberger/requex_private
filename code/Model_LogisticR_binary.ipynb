{
 "cells": [
  {
   "cell_type": "markdown",
   "metadata": {},
   "source": [
    "# Logistic Regression classification model\n",
    "\n",
    "A simple logictic regression is used to classify the domains as DGA or non-DGA. This model is much faster in inference compared to LSTMs, and will serve as a baseline for comparison.\n"
   ]
  },
  {
   "cell_type": "code",
   "execution_count": 1,
   "metadata": {},
   "outputs": [
    {
     "name": "stderr",
     "output_type": "stream",
     "text": [
      "c:\\program files\\python36\\lib\\site-packages\\h5py\\__init__.py:36: FutureWarning: Conversion of the second argument of issubdtype from `float` to `np.floating` is deprecated. In future, it will be treated as `np.float64 == np.dtype(float).type`.\n",
      "  from ._conv import register_converters as _register_converters\n",
      "Using TensorFlow backend.\n"
     ]
    }
   ],
   "source": [
    "import pandas as pd\n",
    "import numpy as np\n",
    "import json\n",
    "from sklearn.model_selection import train_test_split\n",
    "from sklearn.metrics import accuracy_score, classification_report\n",
    "from sklearn.linear_model import LogisticRegression\n",
    "\n",
    "from keras.preprocessing import sequence\n",
    "from keras.preprocessing import text"
   ]
  },
  {
   "cell_type": "code",
   "execution_count": 2,
   "metadata": {},
   "outputs": [],
   "source": [
    "# Path and file variables for saving model information\n",
    "path_dir = '.\\\\saved_models\\\\'\n",
    "name_m_report        = path_dir + 'logisticR_metrics_report'\n",
    "name_c_report        = path_dir + 'logisticR_class_report'\n",
    "\n",
    "# format and report dump switches\n",
    "dump_pred_results    = 0x03                                 # bitmask switches to dump prediction results: \n",
    "                                                            #       0x01: prediction metrics\n",
    "                                                            #       0x02: domains' mis-classifications table\n",
    "format_m_report       = 'json'                              # 'json' format only, csv doesn't fit correctly here\n",
    "format_c_report       = ['json', 'csv']                     # atleast 1 of: 'csv' or 'json'\n",
    "\n",
    "# Category names\n",
    "name_DGA = 'DGA'\n",
    "name_nonDGA = 'non-DGA'"
   ]
  },
  {
   "cell_type": "code",
   "execution_count": 3,
   "metadata": {},
   "outputs": [],
   "source": [
    "# Read DGA and Cisco high confidence data\n",
    "dga_df = pd.read_csv('..\\\\data\\\\2018_0923\\\\dga-feed-high.csv', header=None, skiprows=15)\n",
    "cisco_df = pd.read_csv('..\\\\data\\\\2018_0923\\\\top-1m.csv', header=None)"
   ]
  },
  {
   "cell_type": "code",
   "execution_count": 4,
   "metadata": {},
   "outputs": [],
   "source": [
    "# display head\n",
    "def display_df(dga_df_, cisco_df_):\n",
    "    display(\"DGA feed sample: {}\".format( dga_df_.shape) )\n",
    "    display(dga_df_.head())\n",
    "    display(\"Cisco feed sample: {}\".format( cisco_df_.shape) )\n",
    "    display(cisco_df_.head())"
   ]
  },
  {
   "cell_type": "code",
   "execution_count": 5,
   "metadata": {},
   "outputs": [
    {
     "data": {
      "text/plain": [
       "'DGA feed sample: (381953, 2)'"
      ]
     },
     "metadata": {},
     "output_type": "display_data"
    },
    {
     "data": {
      "text/html": [
       "<div>\n",
       "<style scoped>\n",
       "    .dataframe tbody tr th:only-of-type {\n",
       "        vertical-align: middle;\n",
       "    }\n",
       "\n",
       "    .dataframe tbody tr th {\n",
       "        vertical-align: top;\n",
       "    }\n",
       "\n",
       "    .dataframe thead th {\n",
       "        text-align: right;\n",
       "    }\n",
       "</style>\n",
       "<table border=\"1\" class=\"dataframe\">\n",
       "  <thead>\n",
       "    <tr style=\"text-align: right;\">\n",
       "      <th></th>\n",
       "      <th>domain</th>\n",
       "      <th>dga</th>\n",
       "    </tr>\n",
       "  </thead>\n",
       "  <tbody>\n",
       "    <tr>\n",
       "      <th>0</th>\n",
       "      <td>plvklpgwivery.com</td>\n",
       "      <td>DGA</td>\n",
       "    </tr>\n",
       "    <tr>\n",
       "      <th>1</th>\n",
       "      <td>dnuxdhcgblsgy.net</td>\n",
       "      <td>DGA</td>\n",
       "    </tr>\n",
       "    <tr>\n",
       "      <th>2</th>\n",
       "      <td>qjlullhfkiowp.biz</td>\n",
       "      <td>DGA</td>\n",
       "    </tr>\n",
       "    <tr>\n",
       "      <th>3</th>\n",
       "      <td>elkidddodxdly.ru</td>\n",
       "      <td>DGA</td>\n",
       "    </tr>\n",
       "    <tr>\n",
       "      <th>4</th>\n",
       "      <td>rnbfwuprlwfor.org</td>\n",
       "      <td>DGA</td>\n",
       "    </tr>\n",
       "  </tbody>\n",
       "</table>\n",
       "</div>"
      ],
      "text/plain": [
       "              domain  dga\n",
       "0  plvklpgwivery.com  DGA\n",
       "1  dnuxdhcgblsgy.net  DGA\n",
       "2  qjlullhfkiowp.biz  DGA\n",
       "3   elkidddodxdly.ru  DGA\n",
       "4  rnbfwuprlwfor.org  DGA"
      ]
     },
     "metadata": {},
     "output_type": "display_data"
    },
    {
     "data": {
      "text/plain": [
       "'Cisco feed sample: (1000000, 2)'"
      ]
     },
     "metadata": {},
     "output_type": "display_data"
    },
    {
     "data": {
      "text/html": [
       "<div>\n",
       "<style scoped>\n",
       "    .dataframe tbody tr th:only-of-type {\n",
       "        vertical-align: middle;\n",
       "    }\n",
       "\n",
       "    .dataframe tbody tr th {\n",
       "        vertical-align: top;\n",
       "    }\n",
       "\n",
       "    .dataframe thead th {\n",
       "        text-align: right;\n",
       "    }\n",
       "</style>\n",
       "<table border=\"1\" class=\"dataframe\">\n",
       "  <thead>\n",
       "    <tr style=\"text-align: right;\">\n",
       "      <th></th>\n",
       "      <th>domain</th>\n",
       "      <th>dga</th>\n",
       "    </tr>\n",
       "  </thead>\n",
       "  <tbody>\n",
       "    <tr>\n",
       "      <th>0</th>\n",
       "      <td>netflix.com</td>\n",
       "      <td>non-DGA</td>\n",
       "    </tr>\n",
       "    <tr>\n",
       "      <th>1</th>\n",
       "      <td>api-global.netflix.com</td>\n",
       "      <td>non-DGA</td>\n",
       "    </tr>\n",
       "    <tr>\n",
       "      <th>2</th>\n",
       "      <td>prod.netflix.com</td>\n",
       "      <td>non-DGA</td>\n",
       "    </tr>\n",
       "    <tr>\n",
       "      <th>3</th>\n",
       "      <td>push.prod.netflix.com</td>\n",
       "      <td>non-DGA</td>\n",
       "    </tr>\n",
       "    <tr>\n",
       "      <th>4</th>\n",
       "      <td>google.com</td>\n",
       "      <td>non-DGA</td>\n",
       "    </tr>\n",
       "  </tbody>\n",
       "</table>\n",
       "</div>"
      ],
      "text/plain": [
       "                   domain      dga\n",
       "0             netflix.com  non-DGA\n",
       "1  api-global.netflix.com  non-DGA\n",
       "2        prod.netflix.com  non-DGA\n",
       "3   push.prod.netflix.com  non-DGA\n",
       "4              google.com  non-DGA"
      ]
     },
     "metadata": {},
     "output_type": "display_data"
    }
   ],
   "source": [
    "# Remove unused columns, add output label 'dga'\n",
    "\n",
    "dga_df_slim =   dga_df.drop(columns=range(1,dga_df.shape[1]), inplace=False)\n",
    "dga_df_slim.columns = ['domain']\n",
    "cisco_df_slim = cisco_df.drop(columns=[0], inplace=False)\n",
    "cisco_df_slim.columns = ['domain']\n",
    "dga_df_slim['dga'] = name_DGA\n",
    "cisco_df_slim['dga'] = name_nonDGA\n",
    "\n",
    "display_df(dga_df_slim, cisco_df_slim)\n",
    "unified_df = pd.concat([cisco_df_slim, dga_df_slim], ignore_index=True)\n",
    "unified_df['dga'], labels = pd.factorize(unified_df['dga'], sort=True)   # binary factorization and potentially realigning the DGA categories"
   ]
  },
  {
   "cell_type": "code",
   "execution_count": 6,
   "metadata": {},
   "outputs": [],
   "source": [
    "# Separate input sequences (domains) and output labels (DGA 0/1), and do train/test split\n",
    "\n",
    "X = unified_df['domain']\n",
    "Y = unified_df['dga']\n",
    "X_train, X_test, Y_train, Y_test = train_test_split(X, Y, test_size=0.2,random_state=23)"
   ]
  },
  {
   "cell_type": "code",
   "execution_count": 11,
   "metadata": {
    "scrolled": false
   },
   "outputs": [
    {
     "name": "stdout",
     "output_type": "stream",
     "text": [
      "[LibLinear]"
     ]
    }
   ],
   "source": [
    "# Logistic regression classification\n",
    "\n",
    "TRAIN_MODEL = True                                         # Load saved model otherwise\n",
    "\n",
    "max_seq_len = 75                                            # maximum char length of domain name\n",
    "                                                     # train the model\n",
    "# encode string characters to integers\n",
    "encoder = text.Tokenizer(num_words=500, char_level=True)\n",
    "encoder.fit_on_texts(X_train)                            # build character indices\n",
    "X_train_tz = encoder.texts_to_sequences(X_train)\n",
    "\n",
    "# Model definition\n",
    "model=LogisticRegression(tol=0.01, C=1, solver='liblinear', max_iter=1000, verbose=20)\n",
    "\n",
    "# Pad sequence where sequences are case insensitive characters encoded to\n",
    "# integers from 0 to number of valid characters\n",
    "X_train_pad=sequence.pad_sequences(X_train_tz, maxlen=75)\n",
    "\n",
    "# Training\n",
    "model_hist = model.fit(X_train_pad, Y_train)"
   ]
  },
  {
   "cell_type": "code",
   "execution_count": 12,
   "metadata": {},
   "outputs": [
    {
     "name": "stdout",
     "output_type": "stream",
     "text": [
      "Model accuracy =   86.872 %\n"
     ]
    }
   ],
   "source": [
    "# Validation on test dataset\n",
    "# Compute prediction probabilities of classes \n",
    "\n",
    "X_test_pad = sequence.pad_sequences(encoder.texts_to_sequences(X_test), maxlen=max_seq_len)\n",
    "Y_pred_prob = model.predict_proba(X_test_pad)\n",
    "Y_pred = np.argmax(Y_pred_prob, axis=1)\n",
    "acc = accuracy_score(Y_test, Y_pred)\n",
    "print(\"Model accuracy = {:8.3f} %\".format(acc*100))"
   ]
  },
  {
   "cell_type": "code",
   "execution_count": 13,
   "metadata": {},
   "outputs": [
    {
     "name": "stdout",
     "output_type": "stream",
     "text": [
      "\n",
      "Correctly predicted Domains:\n"
     ]
    },
    {
     "data": {
      "text/html": [
       "<div>\n",
       "<style scoped>\n",
       "    .dataframe tbody tr th:only-of-type {\n",
       "        vertical-align: middle;\n",
       "    }\n",
       "\n",
       "    .dataframe tbody tr th {\n",
       "        vertical-align: top;\n",
       "    }\n",
       "\n",
       "    .dataframe thead th {\n",
       "        text-align: right;\n",
       "    }\n",
       "</style>\n",
       "<table border=\"1\" class=\"dataframe\">\n",
       "  <thead>\n",
       "    <tr style=\"text-align: right;\">\n",
       "      <th></th>\n",
       "      <th>domain</th>\n",
       "      <th>trueClass</th>\n",
       "      <th>predClass</th>\n",
       "      <th>predProb</th>\n",
       "    </tr>\n",
       "  </thead>\n",
       "  <tbody>\n",
       "    <tr>\n",
       "      <th>124546</th>\n",
       "      <td>ns47.domaincontrol.com</td>\n",
       "      <td>non-DGA</td>\n",
       "      <td>non-DGA</td>\n",
       "      <td>0.988869</td>\n",
       "    </tr>\n",
       "    <tr>\n",
       "      <th>660921</th>\n",
       "      <td>britishlibrary.typepad.co.uk</td>\n",
       "      <td>non-DGA</td>\n",
       "      <td>non-DGA</td>\n",
       "      <td>0.595031</td>\n",
       "    </tr>\n",
       "    <tr>\n",
       "      <th>446456</th>\n",
       "      <td>a538.casalemedia.com</td>\n",
       "      <td>non-DGA</td>\n",
       "      <td>non-DGA</td>\n",
       "      <td>0.978420</td>\n",
       "    </tr>\n",
       "    <tr>\n",
       "      <th>600919</th>\n",
       "      <td>ign-ar8de21s8pinm-8d3d0d118-4d8d69dgoogleplayd...</td>\n",
       "      <td>non-DGA</td>\n",
       "      <td>non-DGA</td>\n",
       "      <td>0.999997</td>\n",
       "    </tr>\n",
       "    <tr>\n",
       "      <th>1186650</th>\n",
       "      <td>gbggekvj.eu</td>\n",
       "      <td>DGA</td>\n",
       "      <td>DGA</td>\n",
       "      <td>0.588945</td>\n",
       "    </tr>\n",
       "    <tr>\n",
       "      <th>115543</th>\n",
       "      <td>ewr-66.ewr-rtb1.rfihub.com</td>\n",
       "      <td>non-DGA</td>\n",
       "      <td>non-DGA</td>\n",
       "      <td>0.841470</td>\n",
       "    </tr>\n",
       "    <tr>\n",
       "      <th>1360357</th>\n",
       "      <td>vsagkcaahpxrfbmqljnnxutj.com</td>\n",
       "      <td>DGA</td>\n",
       "      <td>DGA</td>\n",
       "      <td>0.541498</td>\n",
       "    </tr>\n",
       "    <tr>\n",
       "      <th>464912</th>\n",
       "      <td>static.bladeandsoul.com</td>\n",
       "      <td>non-DGA</td>\n",
       "      <td>non-DGA</td>\n",
       "      <td>0.946659</td>\n",
       "    </tr>\n",
       "    <tr>\n",
       "      <th>1097547</th>\n",
       "      <td>dlpyniywfxxp.com</td>\n",
       "      <td>DGA</td>\n",
       "      <td>DGA</td>\n",
       "      <td>0.777868</td>\n",
       "    </tr>\n",
       "    <tr>\n",
       "      <th>606453</th>\n",
       "      <td>trans11212.addressy.com</td>\n",
       "      <td>non-DGA</td>\n",
       "      <td>non-DGA</td>\n",
       "      <td>0.649959</td>\n",
       "    </tr>\n",
       "  </tbody>\n",
       "</table>\n",
       "</div>"
      ],
      "text/plain": [
       "                                                    domain trueClass  \\\n",
       "124546                              ns47.domaincontrol.com   non-DGA   \n",
       "660921                        britishlibrary.typepad.co.uk   non-DGA   \n",
       "446456                                a538.casalemedia.com   non-DGA   \n",
       "600919   ign-ar8de21s8pinm-8d3d0d118-4d8d69dgoogleplayd...   non-DGA   \n",
       "1186650                                        gbggekvj.eu       DGA   \n",
       "115543                          ewr-66.ewr-rtb1.rfihub.com   non-DGA   \n",
       "1360357                       vsagkcaahpxrfbmqljnnxutj.com       DGA   \n",
       "464912                             static.bladeandsoul.com   non-DGA   \n",
       "1097547                                   dlpyniywfxxp.com       DGA   \n",
       "606453                             trans11212.addressy.com   non-DGA   \n",
       "\n",
       "        predClass  predProb  \n",
       "124546    non-DGA  0.988869  \n",
       "660921    non-DGA  0.595031  \n",
       "446456    non-DGA  0.978420  \n",
       "600919    non-DGA  0.999997  \n",
       "1186650       DGA  0.588945  \n",
       "115543    non-DGA  0.841470  \n",
       "1360357       DGA  0.541498  \n",
       "464912    non-DGA  0.946659  \n",
       "1097547       DGA  0.777868  \n",
       "606453    non-DGA  0.649959  "
      ]
     },
     "metadata": {},
     "output_type": "display_data"
    },
    {
     "name": "stdout",
     "output_type": "stream",
     "text": [
      "\n",
      "Mis-predicted Domains:\n"
     ]
    },
    {
     "data": {
      "text/html": [
       "<div>\n",
       "<style scoped>\n",
       "    .dataframe tbody tr th:only-of-type {\n",
       "        vertical-align: middle;\n",
       "    }\n",
       "\n",
       "    .dataframe tbody tr th {\n",
       "        vertical-align: top;\n",
       "    }\n",
       "\n",
       "    .dataframe thead th {\n",
       "        text-align: right;\n",
       "    }\n",
       "</style>\n",
       "<table border=\"1\" class=\"dataframe\">\n",
       "  <thead>\n",
       "    <tr style=\"text-align: right;\">\n",
       "      <th></th>\n",
       "      <th>domain</th>\n",
       "      <th>trueClass</th>\n",
       "      <th>predClass</th>\n",
       "      <th>predProb</th>\n",
       "    </tr>\n",
       "  </thead>\n",
       "  <tbody>\n",
       "    <tr>\n",
       "      <th>1359727</th>\n",
       "      <td>uxamuoylbidlktngprh.com</td>\n",
       "      <td>DGA</td>\n",
       "      <td>non-DGA</td>\n",
       "      <td>0.659950</td>\n",
       "    </tr>\n",
       "    <tr>\n",
       "      <th>1372453</th>\n",
       "      <td>snoumrqnyi.mooo.com</td>\n",
       "      <td>DGA</td>\n",
       "      <td>non-DGA</td>\n",
       "      <td>0.951096</td>\n",
       "    </tr>\n",
       "    <tr>\n",
       "      <th>882015</th>\n",
       "      <td>ebanking-ch1.ubs.com</td>\n",
       "      <td>non-DGA</td>\n",
       "      <td>DGA</td>\n",
       "      <td>0.549897</td>\n",
       "    </tr>\n",
       "    <tr>\n",
       "      <th>90390</th>\n",
       "      <td>6htb5ck86hk8i9.com</td>\n",
       "      <td>non-DGA</td>\n",
       "      <td>DGA</td>\n",
       "      <td>0.997115</td>\n",
       "    </tr>\n",
       "    <tr>\n",
       "      <th>266868</th>\n",
       "      <td>cdn.quizzclub.com</td>\n",
       "      <td>non-DGA</td>\n",
       "      <td>DGA</td>\n",
       "      <td>0.685064</td>\n",
       "    </tr>\n",
       "    <tr>\n",
       "      <th>1234281</th>\n",
       "      <td>bimyhmupgtetju.me</td>\n",
       "      <td>DGA</td>\n",
       "      <td>non-DGA</td>\n",
       "      <td>0.683658</td>\n",
       "    </tr>\n",
       "    <tr>\n",
       "      <th>1010085</th>\n",
       "      <td>1exf5ov1251gcf11d1v5s1af6cca.org</td>\n",
       "      <td>DGA</td>\n",
       "      <td>non-DGA</td>\n",
       "      <td>0.585229</td>\n",
       "    </tr>\n",
       "    <tr>\n",
       "      <th>1256521</th>\n",
       "      <td>asoqhiiugkeq.net</td>\n",
       "      <td>DGA</td>\n",
       "      <td>non-DGA</td>\n",
       "      <td>0.553420</td>\n",
       "    </tr>\n",
       "    <tr>\n",
       "      <th>1373227</th>\n",
       "      <td>uqmwgucn.mooo.com</td>\n",
       "      <td>DGA</td>\n",
       "      <td>non-DGA</td>\n",
       "      <td>0.968331</td>\n",
       "    </tr>\n",
       "    <tr>\n",
       "      <th>1058709</th>\n",
       "      <td>mtjuddabaum.pw</td>\n",
       "      <td>DGA</td>\n",
       "      <td>non-DGA</td>\n",
       "      <td>0.527847</td>\n",
       "    </tr>\n",
       "  </tbody>\n",
       "</table>\n",
       "</div>"
      ],
      "text/plain": [
       "                                   domain trueClass predClass  predProb\n",
       "1359727           uxamuoylbidlktngprh.com       DGA   non-DGA  0.659950\n",
       "1372453               snoumrqnyi.mooo.com       DGA   non-DGA  0.951096\n",
       "882015               ebanking-ch1.ubs.com   non-DGA       DGA  0.549897\n",
       "90390                  6htb5ck86hk8i9.com   non-DGA       DGA  0.997115\n",
       "266868                  cdn.quizzclub.com   non-DGA       DGA  0.685064\n",
       "1234281                 bimyhmupgtetju.me       DGA   non-DGA  0.683658\n",
       "1010085  1exf5ov1251gcf11d1v5s1af6cca.org       DGA   non-DGA  0.585229\n",
       "1256521                  asoqhiiugkeq.net       DGA   non-DGA  0.553420\n",
       "1373227                 uqmwgucn.mooo.com       DGA   non-DGA  0.968331\n",
       "1058709                    mtjuddabaum.pw       DGA   non-DGA  0.527847"
      ]
     },
     "metadata": {},
     "output_type": "display_data"
    },
    {
     "name": "stdout",
     "output_type": "stream",
     "text": [
      "\n",
      "Percentage of False Positives (i.e. nonDGA domains classified as DGA): 4.4889 %\n",
      "\n",
      "Percentage of False Negatives (i.e. DGA domains classified as nonDGA): 8.6392 %\n"
     ]
    }
   ],
   "source": [
    "# Inspect a few prediction probabilities\n",
    "\n",
    "pred_table = X_test.to_frame()\n",
    "pred_table.columns = ['domain']\n",
    "pred_table['trueClass'] = [labels[i] for i in Y_test]\n",
    "pred_table['predClass'] = [labels[i] for i in Y_pred]\n",
    "pred_table['predProb'] = [Y_pred_prob[idx][Y_pred[idx]] for idx in range(0, Y_pred.shape[0]) ]\n",
    "\n",
    "print('\\nCorrectly predicted Domains:')\n",
    "display(pred_table[pred_table['trueClass'] == pred_table['predClass'] ].head(10) )\n",
    "\n",
    "print('\\nMis-predicted Domains:')\n",
    "display(pred_table[pred_table['trueClass'] != pred_table['predClass'] ].head(10) )\n",
    "\n",
    "\n",
    "pred_table_FP = pred_table[(pred_table['trueClass'] == name_nonDGA) & (pred_table['predClass'] == name_DGA) ]\n",
    "pred_FP_frac = pred_table_FP.shape[0]/pred_table.shape[0]\n",
    "print('\\nPercentage of False Positives (i.e. nonDGA domains classified as DGA): {:6.4f} %'\n",
    "      .format(100*pred_FP_frac))\n",
    "\n",
    "pred_table_FN = pred_table[(pred_table['trueClass'] == name_DGA) & (pred_table['predClass'] == name_nonDGA) ]\n",
    "pred_FN_frac = pred_table_FN.shape[0]/pred_table.shape[0]\n",
    "print('\\nPercentage of False Negatives (i.e. DGA domains classified as nonDGA): {:6.4f} %'\n",
    "      .format(100*pred_FN_frac))"
   ]
  },
  {
   "cell_type": "code",
   "execution_count": 14,
   "metadata": {},
   "outputs": [],
   "source": [
    "# dump classification metrics and FP/PF domains\n",
    "\n",
    "# accuracy, precision, recall, f1, false positive, false negative\n",
    "if dump_pred_results & 0x01:\n",
    "    metrics_report = classification_report(Y_test, Y_pred, target_names=labels, output_dict=True)\n",
    "    metrics_report['accuracy'] = acc\n",
    "    metrics_report['false positives'] = pred_FP_frac\n",
    "    metrics_report['false negatives'] = pred_FN_frac\n",
    "    \n",
    "    if format_m_report == 'json':\n",
    "        fileName = name_m_report + '.' + format_m_report\n",
    "        with open(fileName, 'w') as filePath:\n",
    "            json.dump(metrics_report, fp=filePath)\n",
    "    \n",
    "# False Positives and False Negatives\n",
    "if dump_pred_results & 0x02:\n",
    "    pred_table_FP.insert(0, 'type', 'FP')\n",
    "    pred_table_FN.insert(0, 'type', 'FN')\n",
    "    \n",
    "    for extn in format_c_report:\n",
    "        filePath = name_c_report + '.' + extn\n",
    "        if extn == 'csv':\n",
    "            pred_table_FP.to_csv(filePath, mode='w', index=False, header=True)\n",
    "            pred_table_FN.to_csv(filePath, mode='a', index=False, header=False)\n",
    "        elif extn == 'json':\n",
    "            pred_table_FP.append(pred_table_FN)\n",
    "            pred_table_FP.to_json(filePath, orient='table', index=False)"
   ]
  },
  {
   "cell_type": "markdown",
   "metadata": {},
   "source": [
    "### Summary:\n",
    "Although the training and inference of Logistic Regression is very fast compared to LSTM, its accuracy lags behind substantially. This is prohibitive in terms of production deployment of this model, as it would mean that roughly 5 % of the domains would be Falsely classified as DGA domains and hence blocked. This would not be a tolerable experience by the end user/client. "
   ]
  },
  {
   "cell_type": "code",
   "execution_count": null,
   "metadata": {},
   "outputs": [],
   "source": []
  }
 ],
 "metadata": {
  "kernelspec": {
   "display_name": "Python 3",
   "language": "python",
   "name": "python3"
  },
  "language_info": {
   "codemirror_mode": {
    "name": "ipython",
    "version": 3
   },
   "file_extension": ".py",
   "mimetype": "text/x-python",
   "name": "python",
   "nbconvert_exporter": "python",
   "pygments_lexer": "ipython3",
   "version": "3.6.3"
  }
 },
 "nbformat": 4,
 "nbformat_minor": 2
}
