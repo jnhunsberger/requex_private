{
 "cells": [
  {
   "cell_type": "markdown",
   "metadata": {},
   "source": [
    "# Exploration of Merging Data Files\n",
    "\n",
    "This notebook was built to explore how to best merge the Cisco Umbrella 1m Domains file and the Bambenek Consulting DGA High-Confidence Feed."
   ]
  },
  {
   "cell_type": "code",
   "execution_count": 9,
   "metadata": {},
   "outputs": [],
   "source": [
    "# Libraries\n",
    "import zipfile\n",
    "import numpy as np\n",
    "import pandas as pd\n",
    "import re\n",
    "import os\n",
    "import time\n",
    "import sys\n",
    "import lstm_binary\n",
    "import imp\n",
    "from sklearn.model_selection import train_test_split"
   ]
  },
  {
   "cell_type": "code",
   "execution_count": 10,
   "metadata": {},
   "outputs": [],
   "source": [
    "PROJECT_ROOT = \"./\"\n",
    "BINARY_TOKENIZER_FILE = PROJECT_ROOT + \"saved_models/binary_tokenizer.pkl\"\n",
    "BINARY_CATEGORIES_FILE = PROJECT_ROOT + \"saved_models/binary_categories.pkl\"\n",
    "BINARY_MODEL_JSON = PROJECT_ROOT + \"saved_models/binary_LSTM.json\"\n",
    "BINARY_MODEL_H5 = PROJECT_ROOT + \"saved_models/binary_LSTM.h5\""
   ]
  },
  {
   "cell_type": "code",
   "execution_count": 4,
   "metadata": {},
   "outputs": [
    {
     "name": "stderr",
     "output_type": "stream",
     "text": [
      "/usr/local/lib/python3.5/dist-packages/IPython/core/interactiveshell.py:3020: DtypeWarning: Columns (3) have mixed types. Specify dtype option on import or set low_memory=False.\n",
      "  interactivity=interactivity, compiler=compiler, result=result)\n"
     ]
    }
   ],
   "source": [
    "merged_csv = '/home/nscsekhar/team_cyber/data/local/staging/merged-2018-11-24.csv'\n",
    "df = pd.read_csv(merged_csv)"
   ]
  },
  {
   "cell_type": "code",
   "execution_count": 5,
   "metadata": {},
   "outputs": [],
   "source": [
    "X = df['domain']\n",
    "Y = df['dga']"
   ]
  },
  {
   "cell_type": "code",
   "execution_count": 8,
   "metadata": {},
   "outputs": [],
   "source": [
    "X_train, X_test, Y_train, Y_test = train_test_split(X, Y, test_size=0.2,random_state=23)"
   ]
  },
  {
   "cell_type": "code",
   "execution_count": 10,
   "metadata": {},
   "outputs": [
    {
     "name": "stdout",
     "output_type": "stream",
     "text": [
      "Epoch 1/5\n",
      "1490995/1490995 [==============================] - 173s 116us/step - loss: 0.1663\n",
      "Epoch 2/5\n",
      "1490995/1490995 [==============================] - 173s 116us/step - loss: 0.0885\n",
      "Epoch 3/5\n",
      "1490995/1490995 [==============================] - 173s 116us/step - loss: 0.0810\n",
      "Epoch 4/5\n",
      "1490995/1490995 [==============================] - 173s 116us/step - loss: 0.0623\n",
      "Epoch 5/5\n",
      "1490995/1490995 [==============================] - 173s 116us/step - loss: 0.0726\n"
     ]
    }
   ],
   "source": [
    "imp.reload(lstm_binary)\n",
    "train_model = lstm_binary.LSTMBinary()\n",
    "train_model.train(X_train, Y_train)"
   ]
  },
  {
   "cell_type": "code",
   "execution_count": 2,
   "metadata": {},
   "outputs": [
    {
     "ename": "NameError",
     "evalue": "name 'train_model' is not defined",
     "output_type": "error",
     "traceback": [
      "\u001b[0;31m---------------------------------------------------------------------------\u001b[0m",
      "\u001b[0;31mNameError\u001b[0m                                 Traceback (most recent call last)",
      "\u001b[0;32m<ipython-input-2-664038840bf4>\u001b[0m in \u001b[0;36m<module>\u001b[0;34m\u001b[0m\n\u001b[1;32m      5\u001b[0m \u001b[0mBINARY_MODEL_H5\u001b[0m \u001b[0;34m=\u001b[0m \u001b[0mPROJECT_ROOT\u001b[0m \u001b[0;34m+\u001b[0m \u001b[0;34m\"saved_models/binary_LSTM.h5\"\u001b[0m\u001b[0;34m\u001b[0m\u001b[0m\n\u001b[1;32m      6\u001b[0m \u001b[0;34m\u001b[0m\u001b[0m\n\u001b[0;32m----> 7\u001b[0;31m \u001b[0mtrain_model\u001b[0m\u001b[0;34m.\u001b[0m\u001b[0msave\u001b[0m\u001b[0;34m(\u001b[0m\u001b[0mBINARY_TOKENIZER_FILE\u001b[0m\u001b[0;34m,\u001b[0m \u001b[0mBINARY_MODEL_JSON\u001b[0m\u001b[0;34m,\u001b[0m \u001b[0mBINARY_MODEL_H5\u001b[0m\u001b[0;34m)\u001b[0m\u001b[0;34m\u001b[0m\u001b[0m\n\u001b[0m",
      "\u001b[0;31mNameError\u001b[0m: name 'train_model' is not defined"
     ]
    }
   ],
   "source": [
    "train_model.save(BINARY_TOKENIZER_FILE, BINARY_MODEL_JSON, BINARY_MODEL_H5)"
   ]
  },
  {
   "cell_type": "code",
   "execution_count": 11,
   "metadata": {},
   "outputs": [
    {
     "name": "stdout",
     "output_type": "stream",
     "text": [
      "SAVED BINARY MODEL IS NOW LOADED!\n"
     ]
    }
   ],
   "source": [
    "testmodel = lstm_binary.LSTMBinary()\n",
    "testmodel.load(BINARY_TOKENIZER_FILE, BINARY_MODEL_JSON, BINARY_MODEL_H5)"
   ]
  },
  {
   "cell_type": "code",
   "execution_count": 13,
   "metadata": {},
   "outputs": [
    {
     "name": "stdout",
     "output_type": "stream",
     "text": [
      "['www.google.com', 'www.netflix.com', 'plvklpgwivery.com']\n",
      "URL type: [[0]\n",
      " [0]\n",
      " [1]]\n"
     ]
    }
   ],
   "source": [
    "urllist = [\"www.google.com\", \"www.netflix.com\", \"plvklpgwivery.com\"]\n",
    "urltypes = testmodel.predict(urllist)\n",
    "print(\"URL type:\", urltypes)"
   ]
  },
  {
   "cell_type": "code",
   "execution_count": 14,
   "metadata": {},
   "outputs": [
    {
     "name": "stdout",
     "output_type": "stream",
     "text": [
      "478510                                meteo-saintetienne.com\n",
      "215684                                   jdloorwe4owunkp.com\n",
      "1528784                          uqmy-media.s3.amazonaws.com\n",
      "426127                                  axyljkhvvxpucg.co.uk\n",
      "257901                                      pregqhhhstko.com\n",
      "1568032                        updates2.safer-networking.org\n",
      "1855549                                  519188313.localhost\n",
      "1060218                                   down111.bizport.cn\n",
      "1536272                                       weaksecond.net\n",
      "448272                                   qnokajvf.emltrk.com\n",
      "1242820            blogpfthumb-phinf.pstatic.net.edgekey.net\n",
      "1300299                            bittorrent-2.hs.llnwd.net\n",
      "1547445                                             fmca.com\n",
      "865139                                       adaptedmind.com\n",
      "835457                                        m38.ehmmuub.cc\n",
      "1105728                                    scholar.google.ca\n",
      "1257913                    pip.99.trouter-weu-b.cloudapp.net\n",
      "1407341                               omnichannel.peentar.id\n",
      "1016119                           moneymovement.fidelity.com\n",
      "1044617                                       img.eba.gov.tr\n",
      "1518161                                     event.2parale.ro\n",
      "406520                       ajla6l1tjsjga1kxafpf1lw0bmk.net\n",
      "200919                                      wwggglguuunv.biz\n",
      "872755                                       m26.wzmwqza.com\n",
      "1208420                              connect.compass-usa.com\n",
      "79201                       1tmk08m1o0cimo1e5ujrl1wi9wgt.net\n",
      "1062825                                      assets.alot.com\n",
      "1040367                             firmadigital.imss.gob.mx\n",
      "962855                             p8.secure.hostingprod.com\n",
      "1644537                                        aldemar.co.ua\n",
      "                                 ...                        \n",
      "853277                                       m26.nilqdqh.com\n",
      "1364143          doc-14-b0-apps-viewer.googleusercontent.com\n",
      "1854018                                 1684530434.localhost\n",
      "640991                                   knljjqqsrszuidq.biz\n",
      "120310                         1bq7w1ad9a3u7vkwer91ojfmv.net\n",
      "270890                               vlqvayeiiihkkfyeetm.com\n",
      "449493                                  ttltvbyelofhuthb.biz\n",
      "1250477                                    www.reedsmith.com\n",
      "1862401                                           ort.hrf.su\n",
      "1317725                                    www135.wixdns.net\n",
      "430487                       1hlza161kiy183fgz5tv1nax9rc.com\n",
      "1754378                            www.powersportsnation.com\n",
      "1696033                                  www.finaid.ucsb.edu\n",
      "1479935                                     netfactor.net.tr\n",
      "458458     c-3sux78kvnkay76x24lutzyx2emuumrkgvoyx2eius.g0...\n",
      "1845845                                          gfcargo.com\n",
      "66419                  y8052a359f8b40593180726bc10c3e1db2.tk\n",
      "1045640               r1---sn-0u5ixqoxu-naje.googlevideo.com\n",
      "108351                       18skd8fehgb741h1nw5s18bixyf.org\n",
      "1053866                               e2470.a.akamaiedge.net\n",
      "1034845                                e340.a.akamaiedge.net\n",
      "548                                           chronichip.bid\n",
      "182384                                      pwfgxvuvohij.com\n",
      "480723                                  contactus.reebok.com\n",
      "1325471                      82.trouter-easia-b.cloudapp.net\n",
      "1007388                                          skanska.net\n",
      "261008                                rbhyjdfxenrbjeha.click\n",
      "1150165                                rfvtgb.habittribe.com\n",
      "1675014                                         hs-media.net\n",
      "1070679                                    www.gumtree.co.za\n",
      "Name: domain, Length: 372749, dtype: object\n"
     ]
    }
   ],
   "source": [
    "urltypes = testmodel.predict(X_test)"
   ]
  },
  {
   "cell_type": "code",
   "execution_count": 16,
   "metadata": {},
   "outputs": [
    {
     "name": "stdout",
     "output_type": "stream",
     "text": [
      "(372749, 1)\n"
     ]
    }
   ],
   "source": [
    "print((urltypes.shape))"
   ]
  },
  {
   "cell_type": "code",
   "execution_count": 17,
   "metadata": {},
   "outputs": [
    {
     "name": "stdout",
     "output_type": "stream",
     "text": [
      "1\n"
     ]
    }
   ],
   "source": [
    "print(len(Y_test.values.shape))"
   ]
  },
  {
   "cell_type": "code",
   "execution_count": 18,
   "metadata": {},
   "outputs": [
    {
     "name": "stdout",
     "output_type": "stream",
     "text": [
      "[[0]\n",
      " [1]\n",
      " [0]\n",
      " [1]\n",
      " [1]\n",
      " [0]\n",
      " [0]\n",
      " [0]\n",
      " [0]\n",
      " [0]]\n",
      "[0 1 0 1 1 0 0 0 0 0]\n"
     ]
    }
   ],
   "source": [
    "print(urltypes[:10])\n",
    "print(Y_test.values[:10])"
   ]
  },
  {
   "cell_type": "code",
   "execution_count": 19,
   "metadata": {},
   "outputs": [
    {
     "data": {
      "text/plain": [
       "365587"
      ]
     },
     "execution_count": 19,
     "metadata": {},
     "output_type": "execute_result"
    }
   ],
   "source": [
    "np.count_nonzero(urltypes.flatten() == Y_test.values)"
   ]
  },
  {
   "cell_type": "code",
   "execution_count": 27,
   "metadata": {},
   "outputs": [
    {
     "name": "stdout",
     "output_type": "stream",
     "text": [
      "7162\n"
     ]
    }
   ],
   "source": [
    "incorrects = np.nonzero(urltypes.reshape((-1,)) != Y_test.values)\n",
    "print(len(incorrects[0]))"
   ]
  },
  {
   "cell_type": "code",
   "execution_count": 44,
   "metadata": {},
   "outputs": [],
   "source": [
    "def incorrect_preds(predictions, Y_test, X_test, filename):\n",
    "    incorrects = np.nonzero(predictions.reshape((-1,)) != Y_test.values)\n",
    "    \n",
    "    handle = open(filename, \"w\")\n",
    "    for val in incorrects[0]:\n",
    "        row = str(X_test.values[val]) + \",\" + str(Y_test.values[val]) + \"\\n\"\n",
    "        handle.write(row)    "
   ]
  },
  {
   "cell_type": "code",
   "execution_count": 45,
   "metadata": {},
   "outputs": [],
   "source": [
    "incorrect_preds(urltypes, Y_test, X_test, \"sample.csv\")"
   ]
  },
  {
   "cell_type": "code",
   "execution_count": null,
   "metadata": {},
   "outputs": [],
   "source": []
  }
 ],
 "metadata": {
  "kernelspec": {
   "display_name": "Python 3",
   "language": "python",
   "name": "python3"
  },
  "language_info": {
   "codemirror_mode": {
    "name": "ipython",
    "version": 3
   },
   "file_extension": ".py",
   "mimetype": "text/x-python",
   "name": "python",
   "nbconvert_exporter": "python",
   "pygments_lexer": "ipython3",
   "version": "3.5.3"
  }
 },
 "nbformat": 4,
 "nbformat_minor": 2
}
