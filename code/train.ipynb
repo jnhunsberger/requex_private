{
 "cells": [
  {
   "cell_type": "markdown",
   "metadata": {},
   "source": [
    "# Exploration of Merging Data Files\n",
    "\n",
    "This notebook was built to explore how to best merge the Cisco Umbrella 1m Domains file and the Bambenek Consulting DGA High-Confidence Feed."
   ]
  },
  {
   "cell_type": "code",
   "execution_count": 15,
   "metadata": {},
   "outputs": [],
   "source": [
    "# Libraries\n",
    "import zipfile\n",
    "import numpy as np\n",
    "import pandas as pd\n",
    "import re\n",
    "import os\n",
    "import time\n",
    "import sys\n",
    "import lstm_binary\n",
    "import imp"
   ]
  },
  {
   "cell_type": "code",
   "execution_count": 10,
   "metadata": {},
   "outputs": [
    {
     "name": "stderr",
     "output_type": "stream",
     "text": [
      "/usr/local/lib/python3.5/dist-packages/IPython/core/interactiveshell.py:3020: DtypeWarning: Columns (3) have mixed types. Specify dtype option on import or set low_memory=False.\n",
      "  interactivity=interactivity, compiler=compiler, result=result)\n"
     ]
    }
   ],
   "source": [
    "merged_csv = '/home/nscsekhar/team_cyber/data/local/staging/merged-2018-11-23.csv'\n",
    "df = pd.read_csv(merged_csv)"
   ]
  },
  {
   "cell_type": "code",
   "execution_count": 11,
   "metadata": {},
   "outputs": [],
   "source": [
    "from sklearn.model_selection import train_test_split"
   ]
  },
  {
   "cell_type": "code",
   "execution_count": 12,
   "metadata": {},
   "outputs": [],
   "source": [
    "X = df['domain']\n",
    "Y = df['dga']"
   ]
  },
  {
   "cell_type": "code",
   "execution_count": 13,
   "metadata": {},
   "outputs": [],
   "source": [
    "X_train, X_test, Y_train, Y_test = train_test_split(X, Y, test_size=0.2,random_state=23)"
   ]
  },
  {
   "cell_type": "code",
   "execution_count": 22,
   "metadata": {},
   "outputs": [
    {
     "name": "stdout",
     "output_type": "stream",
     "text": [
      "Epoch 1/10\n",
      "1463529/1463529 [==============================] - 28s 19us/step - loss: 0.2928\n",
      "Epoch 2/10\n",
      "1463529/1463529 [==============================] - 27s 18us/step - loss: 0.1490\n",
      "Epoch 3/10\n",
      "1463529/1463529 [==============================] - 27s 18us/step - loss: 0.1110\n",
      "Epoch 4/10\n",
      "1463529/1463529 [==============================] - 27s 18us/step - loss: 0.1019\n",
      "Epoch 5/10\n",
      "1463529/1463529 [==============================] - 27s 18us/step - loss: 0.0950\n",
      "Epoch 6/10\n",
      "1463529/1463529 [==============================] - 27s 18us/step - loss: 0.0886\n",
      "Epoch 7/10\n",
      "1463529/1463529 [==============================] - 27s 18us/step - loss: 0.0826\n",
      "Epoch 8/10\n",
      "1463529/1463529 [==============================] - 27s 18us/step - loss: 0.1666\n",
      "Epoch 9/10\n",
      "1463529/1463529 [==============================] - 27s 18us/step - loss: 0.0779\n",
      "Epoch 10/10\n",
      "1463529/1463529 [==============================] - 27s 18us/step - loss: 0.0736\n"
     ]
    }
   ],
   "source": [
    "imp.reload(lstm_binary)\n",
    "train_model = lstm_binary.LSTMBinary()\n",
    "train_model.train(X_train, Y_train)"
   ]
  },
  {
   "cell_type": "code",
   "execution_count": 23,
   "metadata": {},
   "outputs": [],
   "source": [
    "PROJECT_ROOT = \"./\"\n",
    "BINARY_TOKENIZER_FILE = PROJECT_ROOT + \"saved_models/binary_tokenizer.pkl\"\n",
    "BINARY_CATEGORIES_FILE = PROJECT_ROOT + \"saved_models/binary_categories.pkl\"\n",
    "BINARY_MODEL_JSON = PROJECT_ROOT + \"saved_models/binary_LSTM.json\"\n",
    "BINARY_MODEL_H5 = PROJECT_ROOT + \"saved_models/binary_LSTM.h5\"\n",
    "\n",
    "train_model.save(BINARY_TOKENIZER_FILE, BINARY_MODEL_JSON, BINARY_MODEL_H5)"
   ]
  },
  {
   "cell_type": "code",
   "execution_count": 24,
   "metadata": {},
   "outputs": [
    {
     "name": "stdout",
     "output_type": "stream",
     "text": [
      "SAVED BINARY MODEL IS NOW LOADED!\n"
     ]
    }
   ],
   "source": [
    "testmodel = lstm_binary.LSTMBinary()\n",
    "testmodel.load(BINARY_TOKENIZER_FILE, BINARY_MODEL_JSON, BINARY_MODEL_H5)"
   ]
  },
  {
   "cell_type": "code",
   "execution_count": 25,
   "metadata": {},
   "outputs": [
    {
     "name": "stdout",
     "output_type": "stream",
     "text": [
      "['www.google.com', 'www.netflix.com', 'plvklpgwivery.com']\n",
      "URL type: [[1]\n",
      " [1]\n",
      " [0]]\n"
     ]
    }
   ],
   "source": [
    "urllist = [\"www.google.com\", \"www.netflix.com\", \"plvklpgwivery.com\"]\n",
    "urltypes = testmodel.predict(urllist)\n",
    "print(\"URL type:\", urltypes)"
   ]
  },
  {
   "cell_type": "code",
   "execution_count": null,
   "metadata": {},
   "outputs": [
    {
     "name": "stdout",
     "output_type": "stream",
     "text": [
      "1422594                                  luhrmeumeywoepk.biz\n",
      "256180                               tysonscore.cloudapp.net\n",
      "426746                                       m22.dlqmaup.com\n",
      "208743                                  studio.inmobicdn.net\n",
      "26410                                    media.allauthor.com\n",
      "1805055                                 1728695480.localhost\n",
      "1386216                                    emnauxhidifgwd.su\n",
      "846701                            free.theastrologyguide.com\n",
      "1565510                                    ibsomdxungauro.cc\n",
      "1282783                                     onvojihgpjvt.com\n",
      "21555      cluster95-elbwpeel-rqn4axbbh0ly-1644986947.us-...\n",
      "220613                                      cdn.mngepvra.com\n",
      "799158                             www.itcratingservices.com\n",
      "1819789                                 2067050032.localhost\n",
      "1068610                                           mintos.com\n",
      "590967                  doc-08-a8-docs.googleusercontent.com\n",
      "857787                                      x20.dltblsib.com\n",
      "1623893                             mx02.messageexchange.com\n",
      "1788625                             sugg.co.search.yahoo.com\n",
      "1505999                        oyogdleseljxetndqjdahmjmk.com\n",
      "1630073                         golftec.us10.list-manage.com\n",
      "763405                                        sdhc.edsby.com\n",
      "799185                                          www.lotto.de\n",
      "103598                                   www.worcesterma.gov\n",
      "1550703                        18wdjsptorvflnaoi1jpw8846.net\n",
      "806995                                               smh.com\n",
      "1765174                                        rl.vietnix.vn\n",
      "271586                             collabserv.com.akadns.net\n",
      "857987                                      x22.ydfmnogb.net\n",
      "1035377                                     www.ink-group.ru\n",
      "                                 ...                        \n",
      "1377498                                       vrixosceii.bid\n",
      "65474                                   lvnuvrxupioomnwg.net\n",
      "1594542                                       email.sunet.se\n",
      "859373           zrdfepirv2bn4prdstr02.blob.core.windows.net\n",
      "486898                                      s-43.fillvdo.com\n",
      "346399                                       m18.acfwftg.com\n",
      "867377                                            zkteco.com\n",
      "322971                                       m32.fxlxwxb.net\n",
      "590643                           4216132.fls.doubleclick.net\n",
      "1395234                                   bsqobgosrajkxi.com\n",
      "1268410                                      ioqvwvnffjic.ru\n",
      "1451665                               fwulgxfvylnguavrbsp.la\n",
      "202600                www-foodnetwork-com.cdn.ampproject.org\n",
      "1265925                                     hwoddwnvunwg.com\n",
      "174816                                   www2.grouponcdn.com\n",
      "772542                                     cdn-wow.mmoui.com\n",
      "1576954          ipv4-c013-sjc004-dev-ix.1.oca.nflxvideo.net\n",
      "1580111                                     www.mmsend21.com\n",
      "1222641                      1rme0hm1xb4fmk13he1i8cl1ui7.net\n",
      "1688351                         links.email.readbrightly.com\n",
      "1310322                                     yorscebrosog.biz\n",
      "132838                                         fhihdfepd.xyz\n",
      "1241669                     1v23gxr1mnmuen1lntcu21w7afr7.biz\n",
      "1782374                               cambridge.ma.cable.net\n",
      "412553                                       m19.oarmdej.org\n",
      "1630636                                71.broadband12.iol.cz\n",
      "1737356                                        hwr-berlin.de\n",
      "1558079                                 lfeszyiyfgvlumqs.org\n",
      "264154                                          cqq5id8n.com\n",
      "490159                                              domik.ua\n",
      "Name: domain, Length: 365883, dtype: object\n"
     ]
    }
   ],
   "source": [
    "urltypes = testmodel.predict(X_test)"
   ]
  },
  {
   "cell_type": "code",
   "execution_count": null,
   "metadata": {},
   "outputs": [],
   "source": []
  }
 ],
 "metadata": {
  "kernelspec": {
   "display_name": "Python 3",
   "language": "python",
   "name": "python3"
  },
  "language_info": {
   "codemirror_mode": {
    "name": "ipython",
    "version": 3
   },
   "file_extension": ".py",
   "mimetype": "text/x-python",
   "name": "python",
   "nbconvert_exporter": "python",
   "pygments_lexer": "ipython3",
   "version": "3.5.3"
  }
 },
 "nbformat": 4,
 "nbformat_minor": 2
}
