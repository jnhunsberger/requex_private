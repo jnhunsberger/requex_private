{
 "cells": [
  {
   "cell_type": "markdown",
   "metadata": {},
   "source": [
    "# Multiclass LSTM classification model\n",
    "\n",
    "In this notebook, we've replicated the multiclass LSTM model for the classification of various DGA categories a domain name may belong to; based on the Endgame paper:\n",
    "\n",
    "\"Predicting Domain Generation Algorithms with Long Short-Term Memory Networks\"\n",
    "http://arxiv.org/abs/1611.00791v1\n"
   ]
  },
  {
   "cell_type": "code",
   "execution_count": 1,
   "metadata": {},
   "outputs": [
    {
     "name": "stderr",
     "output_type": "stream",
     "text": [
      "c:\\program files\\python36\\lib\\site-packages\\h5py\\__init__.py:36: FutureWarning: Conversion of the second argument of issubdtype from `float` to `np.floating` is deprecated. In future, it will be treated as `np.float64 == np.dtype(float).type`.\n",
      "  from ._conv import register_converters as _register_converters\n",
      "Using TensorFlow backend.\n"
     ]
    }
   ],
   "source": [
    "import pandas as pd\n",
    "from sklearn.model_selection import train_test_split\n",
    "from sklearn.metrics import accuracy_score, classification_report\n",
    "\n",
    "from keras.models import Sequential\n",
    "from keras.layers.core import Dense, Dropout, Activation\n",
    "from keras.layers.embeddings import Embedding\n",
    "from keras.layers.recurrent import LSTM\n",
    "from keras.preprocessing import sequence\n",
    "from keras.preprocessing import text\n",
    "from keras.utils import to_categorical\n",
    "\n",
    "from tensorflow.python.client import device_lib"
   ]
  },
  {
   "cell_type": "code",
   "execution_count": 2,
   "metadata": {},
   "outputs": [
    {
     "name": "stdout",
     "output_type": "stream",
     "text": [
      "[name: \"/device:CPU:0\"\n",
      "device_type: \"CPU\"\n",
      "memory_limit: 268435456\n",
      "locality {\n",
      "}\n",
      "incarnation: 9523894212747211800\n",
      ", name: \"/device:GPU:0\"\n",
      "device_type: \"GPU\"\n",
      "memory_limit: 3035033600\n",
      "locality {\n",
      "  bus_id: 1\n",
      "  links {\n",
      "  }\n",
      "}\n",
      "incarnation: 619155223062389375\n",
      "physical_device_desc: \"device: 0, name: GeForce GTX 780M, pci bus id: 0000:01:00.0, compute capability: 3.0\"\n",
      "]\n"
     ]
    }
   ],
   "source": [
    "# Confirm gpu is being picked up for acceleration\n",
    "print(device_lib.list_local_devices())"
   ]
  },
  {
   "cell_type": "code",
   "execution_count": 3,
   "metadata": {},
   "outputs": [],
   "source": [
    "# Read DGA and Cisco high confidence data\n",
    "dga_df = pd.read_csv('..\\\\data\\\\2018_0923\\\\dga-feed-high.csv', header=None, skiprows=15)\n",
    "cisco_df = pd.read_csv('..\\\\data\\\\2018_0923\\\\top-1m.csv', header=None)"
   ]
  },
  {
   "cell_type": "code",
   "execution_count": 4,
   "metadata": {},
   "outputs": [],
   "source": [
    "\"\"\" Display head/tail/sample of the DGA and/or nonDGA data frames \"\"\"\n",
    "def display_df(dga_df_=None, cisco_df_=None, sample='head'):\n",
    "    \n",
    "    if dga_df_ is not None:\n",
    "        display(\"DGA feed sample: {}\".format( dga_df_.shape) )\n",
    "        if sample=='head':\n",
    "            display(dga_df_.head())\n",
    "        elif sample=='tail':\n",
    "            display(dga_df_.tail())\n",
    "        elif 'sample' in sample:\n",
    "            cnt = int(sample.strip('sample'))\n",
    "            display(dga_df_.sample(n=cnt, random_state=21))\n",
    "            \n",
    "    if cisco_df_ is not None:\n",
    "        display(\"Cisco feed sample: {}\".format( cisco_df_.shape) )\n",
    "        if sample=='head':\n",
    "            display(cisco_df_.head())\n",
    "        elif sample=='tail':\n",
    "            display(cisco_df_.tail())\n",
    "        elif 'sample' in sample:\n",
    "            cnt = int(sample.strip('sample'))\n",
    "            display(cisco_df_.sample(n=cnt, random_state=21))\n",
    "            "
   ]
  },
  {
   "cell_type": "code",
   "execution_count": 5,
   "metadata": {},
   "outputs": [
    {
     "data": {
      "text/plain": [
       "'DGA feed sample: (381953, 4)'"
      ]
     },
     "metadata": {},
     "output_type": "display_data"
    },
    {
     "data": {
      "text/html": [
       "<div>\n",
       "<style scoped>\n",
       "    .dataframe tbody tr th:only-of-type {\n",
       "        vertical-align: middle;\n",
       "    }\n",
       "\n",
       "    .dataframe tbody tr th {\n",
       "        vertical-align: top;\n",
       "    }\n",
       "\n",
       "    .dataframe thead th {\n",
       "        text-align: right;\n",
       "    }\n",
       "</style>\n",
       "<table border=\"1\" class=\"dataframe\">\n",
       "  <thead>\n",
       "    <tr style=\"text-align: right;\">\n",
       "      <th></th>\n",
       "      <th>0</th>\n",
       "      <th>1</th>\n",
       "      <th>2</th>\n",
       "      <th>3</th>\n",
       "    </tr>\n",
       "  </thead>\n",
       "  <tbody>\n",
       "    <tr>\n",
       "      <th>0</th>\n",
       "      <td>plvklpgwivery.com</td>\n",
       "      <td>Domain used by Cryptolocker - Flashback DGA fo...</td>\n",
       "      <td>2018-06-23</td>\n",
       "      <td>http://osint.bambenekconsulting.com/manual/cl.txt</td>\n",
       "    </tr>\n",
       "    <tr>\n",
       "      <th>1</th>\n",
       "      <td>dnuxdhcgblsgy.net</td>\n",
       "      <td>Domain used by Cryptolocker - Flashback DGA fo...</td>\n",
       "      <td>2018-06-23</td>\n",
       "      <td>http://osint.bambenekconsulting.com/manual/cl.txt</td>\n",
       "    </tr>\n",
       "    <tr>\n",
       "      <th>2</th>\n",
       "      <td>qjlullhfkiowp.biz</td>\n",
       "      <td>Domain used by Cryptolocker - Flashback DGA fo...</td>\n",
       "      <td>2018-06-23</td>\n",
       "      <td>http://osint.bambenekconsulting.com/manual/cl.txt</td>\n",
       "    </tr>\n",
       "    <tr>\n",
       "      <th>3</th>\n",
       "      <td>elkidddodxdly.ru</td>\n",
       "      <td>Domain used by Cryptolocker - Flashback DGA fo...</td>\n",
       "      <td>2018-06-23</td>\n",
       "      <td>http://osint.bambenekconsulting.com/manual/cl.txt</td>\n",
       "    </tr>\n",
       "    <tr>\n",
       "      <th>4</th>\n",
       "      <td>rnbfwuprlwfor.org</td>\n",
       "      <td>Domain used by Cryptolocker - Flashback DGA fo...</td>\n",
       "      <td>2018-06-23</td>\n",
       "      <td>http://osint.bambenekconsulting.com/manual/cl.txt</td>\n",
       "    </tr>\n",
       "  </tbody>\n",
       "</table>\n",
       "</div>"
      ],
      "text/plain": [
       "                   0                                                  1  \\\n",
       "0  plvklpgwivery.com  Domain used by Cryptolocker - Flashback DGA fo...   \n",
       "1  dnuxdhcgblsgy.net  Domain used by Cryptolocker - Flashback DGA fo...   \n",
       "2  qjlullhfkiowp.biz  Domain used by Cryptolocker - Flashback DGA fo...   \n",
       "3   elkidddodxdly.ru  Domain used by Cryptolocker - Flashback DGA fo...   \n",
       "4  rnbfwuprlwfor.org  Domain used by Cryptolocker - Flashback DGA fo...   \n",
       "\n",
       "            2                                                  3  \n",
       "0  2018-06-23  http://osint.bambenekconsulting.com/manual/cl.txt  \n",
       "1  2018-06-23  http://osint.bambenekconsulting.com/manual/cl.txt  \n",
       "2  2018-06-23  http://osint.bambenekconsulting.com/manual/cl.txt  \n",
       "3  2018-06-23  http://osint.bambenekconsulting.com/manual/cl.txt  \n",
       "4  2018-06-23  http://osint.bambenekconsulting.com/manual/cl.txt  "
      ]
     },
     "metadata": {},
     "output_type": "display_data"
    },
    {
     "data": {
      "text/plain": [
       "'Cisco feed sample: (1000000, 2)'"
      ]
     },
     "metadata": {},
     "output_type": "display_data"
    },
    {
     "data": {
      "text/html": [
       "<div>\n",
       "<style scoped>\n",
       "    .dataframe tbody tr th:only-of-type {\n",
       "        vertical-align: middle;\n",
       "    }\n",
       "\n",
       "    .dataframe tbody tr th {\n",
       "        vertical-align: top;\n",
       "    }\n",
       "\n",
       "    .dataframe thead th {\n",
       "        text-align: right;\n",
       "    }\n",
       "</style>\n",
       "<table border=\"1\" class=\"dataframe\">\n",
       "  <thead>\n",
       "    <tr style=\"text-align: right;\">\n",
       "      <th></th>\n",
       "      <th>0</th>\n",
       "      <th>1</th>\n",
       "    </tr>\n",
       "  </thead>\n",
       "  <tbody>\n",
       "    <tr>\n",
       "      <th>0</th>\n",
       "      <td>1</td>\n",
       "      <td>netflix.com</td>\n",
       "    </tr>\n",
       "    <tr>\n",
       "      <th>1</th>\n",
       "      <td>2</td>\n",
       "      <td>api-global.netflix.com</td>\n",
       "    </tr>\n",
       "    <tr>\n",
       "      <th>2</th>\n",
       "      <td>3</td>\n",
       "      <td>prod.netflix.com</td>\n",
       "    </tr>\n",
       "    <tr>\n",
       "      <th>3</th>\n",
       "      <td>4</td>\n",
       "      <td>push.prod.netflix.com</td>\n",
       "    </tr>\n",
       "    <tr>\n",
       "      <th>4</th>\n",
       "      <td>5</td>\n",
       "      <td>google.com</td>\n",
       "    </tr>\n",
       "  </tbody>\n",
       "</table>\n",
       "</div>"
      ],
      "text/plain": [
       "   0                       1\n",
       "0  1             netflix.com\n",
       "1  2  api-global.netflix.com\n",
       "2  3        prod.netflix.com\n",
       "3  4   push.prod.netflix.com\n",
       "4  5              google.com"
      ]
     },
     "metadata": {},
     "output_type": "display_data"
    }
   ],
   "source": [
    "display_df(dga_df, cisco_df)"
   ]
  },
  {
   "cell_type": "code",
   "execution_count": 6,
   "metadata": {},
   "outputs": [
    {
     "data": {
      "text/plain": [
       "'DGA feed sample: (381953, 2)'"
      ]
     },
     "metadata": {},
     "output_type": "display_data"
    },
    {
     "data": {
      "text/html": [
       "<div>\n",
       "<style scoped>\n",
       "    .dataframe tbody tr th:only-of-type {\n",
       "        vertical-align: middle;\n",
       "    }\n",
       "\n",
       "    .dataframe tbody tr th {\n",
       "        vertical-align: top;\n",
       "    }\n",
       "\n",
       "    .dataframe thead th {\n",
       "        text-align: right;\n",
       "    }\n",
       "</style>\n",
       "<table border=\"1\" class=\"dataframe\">\n",
       "  <thead>\n",
       "    <tr style=\"text-align: right;\">\n",
       "      <th></th>\n",
       "      <th>domain</th>\n",
       "      <th>dga</th>\n",
       "    </tr>\n",
       "  </thead>\n",
       "  <tbody>\n",
       "    <tr>\n",
       "      <th>57569</th>\n",
       "      <td>a94421b9c998056fb42456ad25ea55bfb9.hk</td>\n",
       "      <td>Domain used by dyre DGA for 26 Jun 2018</td>\n",
       "    </tr>\n",
       "    <tr>\n",
       "      <th>171315</th>\n",
       "      <td>wjb92vcerh.net</td>\n",
       "      <td>Domain used by shiotob/urlzone/bebloh DGA - no...</td>\n",
       "    </tr>\n",
       "    <tr>\n",
       "      <th>267753</th>\n",
       "      <td>vhnvvwx.net</td>\n",
       "      <td>Domain used by pykspa (varying date seeds)</td>\n",
       "    </tr>\n",
       "    <tr>\n",
       "      <th>250789</th>\n",
       "      <td>csyyhnyiwejluy.su</td>\n",
       "      <td>Domain used by ranbyus (uses previous 31 days ...</td>\n",
       "    </tr>\n",
       "    <tr>\n",
       "      <th>154897</th>\n",
       "      <td>ypuyuvscckuc.pw</td>\n",
       "      <td>Domain used by tinba DGA for 25 Jun 2018</td>\n",
       "    </tr>\n",
       "  </tbody>\n",
       "</table>\n",
       "</div>"
      ],
      "text/plain": [
       "                                       domain  \\\n",
       "57569   a94421b9c998056fb42456ad25ea55bfb9.hk   \n",
       "171315                         wjb92vcerh.net   \n",
       "267753                            vhnvvwx.net   \n",
       "250789                      csyyhnyiwejluy.su   \n",
       "154897                        ypuyuvscckuc.pw   \n",
       "\n",
       "                                                      dga  \n",
       "57569             Domain used by dyre DGA for 26 Jun 2018  \n",
       "171315  Domain used by shiotob/urlzone/bebloh DGA - no...  \n",
       "267753         Domain used by pykspa (varying date seeds)  \n",
       "250789  Domain used by ranbyus (uses previous 31 days ...  \n",
       "154897           Domain used by tinba DGA for 25 Jun 2018  "
      ]
     },
     "metadata": {},
     "output_type": "display_data"
    }
   ],
   "source": [
    "# Remove unused columns, add output label 'dga'\n",
    "\n",
    "dga_df_slim =   dga_df.drop(columns=range(2,dga_df.shape[1]), inplace=False)\n",
    "dga_df_slim.columns = ['domain', 'dga']\n",
    "\n",
    "cisco_df_slim = cisco_df.drop(columns=[0], inplace=False)\n",
    "cisco_df_slim.columns = ['domain']\n",
    "cisco_df_slim['dga'] = 'nonDGA'\n",
    "\n",
    "display_df(dga_df_slim, None, 'sample5')"
   ]
  },
  {
   "cell_type": "code",
   "execution_count": 7,
   "metadata": {},
   "outputs": [],
   "source": [
    "SUFFIXES = [' DGA', ' (', ' -']\n",
    "\n",
    "\"\"\" Extract the DGA categories from the description string \"\"\"\n",
    "def strip_cat(input_str_row, lstrip_str=\"Domain used by \", rtrunc_str=SUFFIXES, verbose=False):\n",
    "    if verbose:\n",
    "        print('-'*50, '\\nInput:    ', input_str_row['dga'])\n",
    "    str1 = input_str_row['dga'].replace(lstrip_str, '')\n",
    "    if verbose:\n",
    "        print('Lstrip:   ', str1)\n",
    "    str2 = str1\n",
    "    for i in rtrunc_str:\n",
    "        idx = str2.find(i)\n",
    "        if idx != -1:\n",
    "            str2 = str2[0:idx]\n",
    "            if verbose:\n",
    "                print('Trimmed:  ', str2)\n",
    "            break\n",
    "    return str2"
   ]
  },
  {
   "cell_type": "code",
   "execution_count": 8,
   "metadata": {
    "scrolled": false
   },
   "outputs": [
    {
     "data": {
      "text/plain": [
       "'DGA feed sample: (381953, 2)'"
      ]
     },
     "metadata": {},
     "output_type": "display_data"
    },
    {
     "data": {
      "text/html": [
       "<div>\n",
       "<style scoped>\n",
       "    .dataframe tbody tr th:only-of-type {\n",
       "        vertical-align: middle;\n",
       "    }\n",
       "\n",
       "    .dataframe tbody tr th {\n",
       "        vertical-align: top;\n",
       "    }\n",
       "\n",
       "    .dataframe thead th {\n",
       "        text-align: right;\n",
       "    }\n",
       "</style>\n",
       "<table border=\"1\" class=\"dataframe\">\n",
       "  <thead>\n",
       "    <tr style=\"text-align: right;\">\n",
       "      <th></th>\n",
       "      <th>domain</th>\n",
       "      <th>dga</th>\n",
       "    </tr>\n",
       "  </thead>\n",
       "  <tbody>\n",
       "    <tr>\n",
       "      <th>57569</th>\n",
       "      <td>a94421b9c998056fb42456ad25ea55bfb9.hk</td>\n",
       "      <td>dyre</td>\n",
       "    </tr>\n",
       "    <tr>\n",
       "      <th>171315</th>\n",
       "      <td>wjb92vcerh.net</td>\n",
       "      <td>shiotob/urlzone/bebloh</td>\n",
       "    </tr>\n",
       "    <tr>\n",
       "      <th>267753</th>\n",
       "      <td>vhnvvwx.net</td>\n",
       "      <td>pykspa</td>\n",
       "    </tr>\n",
       "    <tr>\n",
       "      <th>250789</th>\n",
       "      <td>csyyhnyiwejluy.su</td>\n",
       "      <td>ranbyus</td>\n",
       "    </tr>\n",
       "    <tr>\n",
       "      <th>154897</th>\n",
       "      <td>ypuyuvscckuc.pw</td>\n",
       "      <td>tinba</td>\n",
       "    </tr>\n",
       "  </tbody>\n",
       "</table>\n",
       "</div>"
      ],
      "text/plain": [
       "                                       domain                     dga\n",
       "57569   a94421b9c998056fb42456ad25ea55bfb9.hk                    dyre\n",
       "171315                         wjb92vcerh.net  shiotob/urlzone/bebloh\n",
       "267753                            vhnvvwx.net                  pykspa\n",
       "250789                      csyyhnyiwejluy.su                 ranbyus\n",
       "154897                        ypuyuvscckuc.pw                   tinba"
      ]
     },
     "metadata": {},
     "output_type": "display_data"
    }
   ],
   "source": [
    "# Trim description down to the DGA category names\n",
    "\n",
    "verbosity = False\n",
    "\n",
    "dga_df_slim['dga'] = dga_df_slim.apply(lambda row: strip_cat(row, verbose=verbosity), axis=1)\n",
    "\n",
    "display_df(dga_df_slim, None, 'sample5')\n"
   ]
  },
  {
   "cell_type": "code",
   "execution_count": 9,
   "metadata": {},
   "outputs": [
    {
     "name": "stdout",
     "output_type": "stream",
     "text": [
      "Categories of DGA domains: 43\n",
      "\n",
      "['Cryptolocker - Flashback', 'Post Tovar GOZ', 'geodo', 'dyre', 'corebot', 'symmi', 'padcrypt', 'locky', 'tinba', 'pushdo', 'P2P Gameover Zeus', 'shiotob/urlzone/bebloh', 'hesperbot', 'cryptowall', 'ramnit', 'dircrypt', 'ranbyus', 'pykspa', 'murofet', 'Volatile Cedar / Explosive', 'beebone', 'bedep', 'fobber', 'necurs', 'qakbot', 'tempedreve', 'ramdo', 'kraken', 'bamital', 'vawtrak', 'sisron', 'chinad', 'gozi', 'sphinx', 'proslikefan', 'vidro', 'madmax', 'dromedan', 'g01', 'pandabanker', 'mirai', 'unknownjs', 'unknowndropper']\n",
      "\n",
      "Total output classes will be: 44\n",
      "\n"
     ]
    }
   ],
   "source": [
    "# Extract unique DGA categories\n",
    "\n",
    "categories = list(dga_df_slim['dga'].unique())\n",
    "print(\"Categories of DGA domains: {}\\n\".format(len(categories)))\n",
    "print(categories)\n",
    "categories.append('nonDGA')\n",
    "print(\"\\nTotal output classes will be: {}\\n\".format(len(categories)))\n",
    "num_categories = len(categories)"
   ]
  },
  {
   "cell_type": "code",
   "execution_count": 10,
   "metadata": {},
   "outputs": [
    {
     "name": "stdout",
     "output_type": "stream",
     "text": [
      "tinba                         66688\n",
      "Post Tovar GOZ                66000\n",
      "ramnit                        56174\n",
      "necurs                        43008\n",
      "murofet                       28520\n",
      "ranbyus                       26040\n",
      "qakbot                        20000\n",
      "pykspa                        14215\n",
      "shiotob/urlzone/bebloh        12521\n",
      "kraken                         8988\n",
      "locky                          8028\n",
      "dyre                           7998\n",
      "Cryptolocker - Flashback       6000\n",
      "vawtrak                        3150\n",
      "P2P Gameover Zeus              2000\n",
      "ramdo                          2000\n",
      "pushdo                         1680\n",
      "chinad                         1536\n",
      "Volatile Cedar / Explosive      996\n",
      "proslikefan                     780\n",
      "sphinx                          768\n",
      "dircrypt                        720\n",
      "fobber                          600\n",
      "padcrypt                        576\n",
      "geodo                           576\n",
      "symmi                           384\n",
      "corebot                         280\n",
      "tempedreve                      249\n",
      "bamital                         240\n",
      "beebone                         210\n",
      "vidro                           200\n",
      "hesperbot                       192\n",
      "unknownjs                       180\n",
      "bedep                           178\n",
      "cryptowall                       94\n",
      "sisron                           60\n",
      "unknowndropper                   60\n",
      "pandabanker                      33\n",
      "gozi                             24\n",
      "mirai                             3\n",
      "dromedan                          2\n",
      "g01                               1\n",
      "madmax                            1\n",
      "Name: dga, dtype: int64\n"
     ]
    }
   ],
   "source": [
    "# Check skewness in the dataset with respect to DGA categories\n",
    "\n",
    "counts = dga_df_slim['dga'].value_counts()\n",
    "print(counts)"
   ]
  },
  {
   "cell_type": "markdown",
   "metadata": {},
   "source": [
    "The above data shows heavy skew and is highly imbalanced for more than half the lower DGA categories in the sorted list. This might affect the training and prediction of the model for these categories."
   ]
  },
  {
   "cell_type": "code",
   "execution_count": 11,
   "metadata": {},
   "outputs": [],
   "source": [
    "# Combine DGA/nonDGA dataframes, and factorize categories (mapping to integer indices)\n",
    "\n",
    "unified_df = pd.concat([cisco_df_slim, dga_df_slim], ignore_index=True)\n",
    "temp_df = unified_df.copy()\n",
    "unified_df['catIndex'], labels = pd.factorize(unified_df['dga'], sort=True)\n"
   ]
  },
  {
   "cell_type": "code",
   "execution_count": 12,
   "metadata": {},
   "outputs": [],
   "source": [
    "# Separate input sequences (domains) and output labels (DGA 0/1), and do train/test split\n",
    "\n",
    "X = unified_df['domain']\n",
    "Y = unified_df['catIndex']\n",
    "X_train, X_test, Y_train, Y_test = train_test_split(X, Y, test_size=0.2,random_state=23)\n",
    "Y_train_binarized = to_categorical(Y_train, num_classes=num_categories)"
   ]
  },
  {
   "cell_type": "code",
   "execution_count": 13,
   "metadata": {},
   "outputs": [
    {
     "name": "stdout",
     "output_type": "stream",
     "text": [
      "Epoch 1/5\n",
      "1105562/1105562 [==============================] - 1301s 1ms/step - loss: 0.2725\n",
      "Epoch 2/5\n",
      "1105562/1105562 [==============================] - 1295s 1ms/step - loss: 0.1699\n",
      "Epoch 3/5\n",
      "1105562/1105562 [==============================] - 1318s 1ms/step - loss: 0.1577\n",
      "Epoch 4/5\n",
      "1105562/1105562 [==============================] - 1292s 1ms/step - loss: 0.1525\n",
      "Epoch 5/5\n",
      "1105562/1105562 [==============================] - 1270s 1ms/step - loss: 0.1493\n"
     ]
    },
    {
     "data": {
      "text/plain": [
       "<keras.callbacks.History at 0x73a4ef0dd8>"
      ]
     },
     "execution_count": 13,
     "metadata": {},
     "output_type": "execute_result"
    }
   ],
   "source": [
    "# Binary classification LSTM model\n",
    "\n",
    "max_features = 1000                                              # length of vocabulary\n",
    "batch_size = 128                                                 # input batch size\n",
    "num_epochs = 5                                                   # epochs to train\n",
    "num_labels = num_categories                                      # number of output classes\n",
    "\n",
    "# encode string characters to integers\n",
    "encoder = text.Tokenizer(num_words=500, char_level=True)\n",
    "encoder.fit_on_texts(X_train)                                    # build character indices\n",
    "X_train_tz = encoder.texts_to_sequences(X_train)\n",
    "\n",
    "# Model definition - this is the core model from Endgame\n",
    "model=Sequential()\n",
    "model.add(Embedding(max_features, 128, input_length=75))\n",
    "model.add(LSTM(128))\n",
    "model.add(Dropout(0.5))\n",
    "model.add(Dense(num_labels))\n",
    "model.add(Activation('softmax'))\n",
    "model.compile(loss='categorical_crossentropy', optimizer='rmsprop')\n",
    "\n",
    "# Pad sequence where sequences are case insensitive characters encoded to\n",
    "# integers from 0 to number of valid characters\n",
    "X_train_pad=sequence.pad_sequences(X_train_tz, maxlen=75)\n",
    "\n",
    "# Train where Y_train is 0-1\n",
    "model.fit(X_train_pad, Y_train_binarized, batch_size=batch_size, epochs=num_epochs)"
   ]
  },
  {
   "cell_type": "code",
   "execution_count": 14,
   "metadata": {},
   "outputs": [],
   "source": [
    "# Validation on test dataset\n",
    "\n",
    "X_test_pad = sequence.pad_sequences(encoder.texts_to_sequences(X_test), maxlen=75)\n",
    "Y_pred = model.predict_classes(X_test_pad)"
   ]
  },
  {
   "cell_type": "code",
   "execution_count": 15,
   "metadata": {},
   "outputs": [
    {
     "name": "stdout",
     "output_type": "stream",
     "text": [
      "Model's overall accuracy =   95.916 %\n",
      "\n",
      "             precision    recall  f1-score   support\n",
      "\n",
      "          0       0.53      0.48      0.51      1223\n",
      "          1       0.46      0.35      0.40       393\n",
      "          2       1.00      1.00      1.00     12996\n",
      "          3       0.97      1.00      0.99       204\n",
      "          4       1.00      1.00      1.00        47\n",
      "          5       0.00      0.00      0.00        42\n",
      "          6       0.00      0.00      0.00        36\n",
      "          7       0.93      0.98      0.95       317\n",
      "          8       1.00      0.98      0.99        62\n",
      "          9       0.00      0.00      0.00        23\n",
      "         10       0.00      0.00      0.00       139\n",
      "         12       1.00      1.00      1.00      1593\n",
      "         13       0.50      0.05      0.09        99\n",
      "         15       0.62      0.97      0.76       119\n",
      "         16       0.00      0.00      0.00         4\n",
      "         17       0.00      0.00      0.00        45\n",
      "         18       0.93      0.82      0.87      1768\n",
      "         19       0.73      0.38      0.50      1601\n",
      "         21       0.00      0.00      0.00         2\n",
      "         22       0.78      0.89      0.83      5664\n",
      "         23       0.86      0.82      0.84      8522\n",
      "         24       0.99      0.99      0.99    200433\n",
      "         25       0.99      0.98      0.98       127\n",
      "         26       0.00      0.00      0.00         6\n",
      "         27       1.00      0.06      0.11       154\n",
      "         28       0.96      0.85      0.90       327\n",
      "         29       0.82      0.83      0.83      2785\n",
      "         30       0.65      0.70      0.67      4059\n",
      "         31       1.00      1.00      1.00       425\n",
      "         32       0.83      0.85      0.84     11179\n",
      "         33       0.83      0.96      0.89      5289\n",
      "         34       0.98      0.92      0.95      2464\n",
      "         35       0.00      0.00      0.00         9\n",
      "         36       0.00      0.00      0.00       128\n",
      "         37       0.96      1.00      0.98        73\n",
      "         38       0.00      0.00      0.00        47\n",
      "         39       0.94      0.96      0.95     13287\n",
      "         40       0.00      0.00      0.00        13\n",
      "         41       0.00      0.00      0.00        26\n",
      "         42       0.69      0.64      0.67       614\n",
      "         43       0.00      0.00      0.00        47\n",
      "\n",
      "avg / total       0.96      0.96      0.96    276391\n",
      "\n"
     ]
    },
    {
     "name": "stderr",
     "output_type": "stream",
     "text": [
      "c:\\program files\\python36\\lib\\site-packages\\sklearn\\metrics\\classification.py:1135: UndefinedMetricWarning: Precision and F-score are ill-defined and being set to 0.0 in labels with no predicted samples.\n",
      "  'precision', 'predicted', average, warn_for)\n"
     ]
    }
   ],
   "source": [
    "acc = accuracy_score(Y_test, Y_pred)\n",
    "print(\"Model's overall accuracy = {:8.3f} %\\n\".format(acc*100))\n",
    "print(classification_report(Y_test, Y_pred))"
   ]
  },
  {
   "cell_type": "markdown",
   "metadata": {},
   "source": [
    "## Look ahead and next steps:\n",
    "__1__ Look closer at the misclassified domains. Any particular DGA category stands out? What do we need to improve? \n",
    "\n",
    "__2__ Improving classification accuracy - more balanced dataset especially for the multiclass classification.\n",
    "\n",
    "__3__ Learning from scratch takes significant time. Need to implement model update in batches of new domain dataset.\n",
    "\n",
    "__4__ We may get a dynamic dataset with more than 60 categories for example, and code need to step in and trim down the categories to an upper limit say 50 at max. Or this could be implemented as dropping off the categories with inadequate data available, say less than 1000 available domain names."
   ]
  },
  {
   "cell_type": "code",
   "execution_count": null,
   "metadata": {},
   "outputs": [],
   "source": []
  }
 ],
 "metadata": {
  "kernelspec": {
   "display_name": "Python 3",
   "language": "python",
   "name": "python3"
  },
  "language_info": {
   "codemirror_mode": {
    "name": "ipython",
    "version": 3
   },
   "file_extension": ".py",
   "mimetype": "text/x-python",
   "name": "python",
   "nbconvert_exporter": "python",
   "pygments_lexer": "ipython3",
   "version": "3.6.3"
  }
 },
 "nbformat": 4,
 "nbformat_minor": 2
}
