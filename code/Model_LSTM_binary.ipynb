{
 "cells": [
  {
   "cell_type": "markdown",
   "metadata": {},
   "source": [
    "# Binary LSTM classification model\n",
    "\n",
    "In this notebook, we've replicated the binary LSTM model for the DGA/non-DGA classification of a domain name; from the Endgame paper:\n",
    "\n",
    "\"Predicting Domain Generation Algorithms with Long Short-Term Memory Networks\"\n",
    "http://arxiv.org/abs/1611.00791v1\n"
   ]
  },
  {
   "cell_type": "code",
   "execution_count": 20,
   "metadata": {},
   "outputs": [],
   "source": [
    "import pandas as pd\n",
    "import pickle\n",
    "import numpy as np\n",
    "import matplotlib.pyplot as plt\n",
    "from sklearn.model_selection import train_test_split\n",
    "from sklearn.metrics import accuracy_score\n",
    "\n",
    "from keras.models import Sequential, model_from_json\n",
    "from keras.layers.core import Dense, Dropout, Activation\n",
    "from keras.layers.embeddings import Embedding\n",
    "from keras.layers.recurrent import LSTM\n",
    "from keras.preprocessing import sequence\n",
    "from keras.preprocessing import text\n",
    "\n",
    "from tensorflow.python.client import device_lib"
   ]
  },
  {
   "cell_type": "code",
   "execution_count": 2,
   "metadata": {},
   "outputs": [
    {
     "name": "stdout",
     "output_type": "stream",
     "text": [
      "[name: \"/device:CPU:0\"\n",
      "device_type: \"CPU\"\n",
      "memory_limit: 268435456\n",
      "locality {\n",
      "}\n",
      "incarnation: 4488820355575910889\n",
      ", name: \"/device:GPU:0\"\n",
      "device_type: \"GPU\"\n",
      "memory_limit: 215764992\n",
      "locality {\n",
      "  bus_id: 1\n",
      "  links {\n",
      "  }\n",
      "}\n",
      "incarnation: 3292641635395018348\n",
      "physical_device_desc: \"device: 0, name: GeForce GTX 780M, pci bus id: 0000:01:00.0, compute capability: 3.0\"\n",
      "]\n"
     ]
    }
   ],
   "source": [
    "# Check if gpu can be utilized for acceleration\n",
    "print(device_lib.list_local_devices())"
   ]
  },
  {
   "cell_type": "code",
   "execution_count": 3,
   "metadata": {},
   "outputs": [],
   "source": [
    "# Path and file variables for saving model information\n",
    "path_dir = '.\\\\saved_models\\\\'\n",
    "name_encoder      = path_dir + 'binary_tokenizer.pkl'\n",
    "name_model        = path_dir + 'binary_LSTM.json'\n",
    "name_weights      = path_dir + 'binary_LSTM.h5'\n",
    "name_categories   = path_dir + 'binary_categories.pkl'\n",
    "\n",
    "# Category names\n",
    "name_DGA = 'DGA'\n",
    "name_nonDGA = 'non-DGA'"
   ]
  },
  {
   "cell_type": "code",
   "execution_count": 4,
   "metadata": {},
   "outputs": [],
   "source": [
    "# Read DGA and Cisco high confidence data\n",
    "dga_df = pd.read_csv('..\\\\data\\\\2018_0923\\\\dga-feed-high.csv', header=None, skiprows=15)\n",
    "cisco_df = pd.read_csv('..\\\\data\\\\2018_0923\\\\top-1m.csv', header=None)"
   ]
  },
  {
   "cell_type": "code",
   "execution_count": 5,
   "metadata": {},
   "outputs": [],
   "source": [
    "# display head\n",
    "def display_df(dga_df_, cisco_df_):\n",
    "    display(\"DGA feed sample: {}\".format( dga_df_.shape) )\n",
    "    display(dga_df_.head())\n",
    "    display(\"Cisco feed sample: {}\".format( cisco_df_.shape) )\n",
    "    display(cisco_df_.head())"
   ]
  },
  {
   "cell_type": "code",
   "execution_count": 6,
   "metadata": {},
   "outputs": [
    {
     "data": {
      "text/plain": [
       "'DGA feed sample: (381953, 2)'"
      ]
     },
     "metadata": {},
     "output_type": "display_data"
    },
    {
     "data": {
      "text/html": [
       "<div>\n",
       "<style scoped>\n",
       "    .dataframe tbody tr th:only-of-type {\n",
       "        vertical-align: middle;\n",
       "    }\n",
       "\n",
       "    .dataframe tbody tr th {\n",
       "        vertical-align: top;\n",
       "    }\n",
       "\n",
       "    .dataframe thead th {\n",
       "        text-align: right;\n",
       "    }\n",
       "</style>\n",
       "<table border=\"1\" class=\"dataframe\">\n",
       "  <thead>\n",
       "    <tr style=\"text-align: right;\">\n",
       "      <th></th>\n",
       "      <th>domain</th>\n",
       "      <th>dga</th>\n",
       "    </tr>\n",
       "  </thead>\n",
       "  <tbody>\n",
       "    <tr>\n",
       "      <th>0</th>\n",
       "      <td>plvklpgwivery.com</td>\n",
       "      <td>DGA</td>\n",
       "    </tr>\n",
       "    <tr>\n",
       "      <th>1</th>\n",
       "      <td>dnuxdhcgblsgy.net</td>\n",
       "      <td>DGA</td>\n",
       "    </tr>\n",
       "    <tr>\n",
       "      <th>2</th>\n",
       "      <td>qjlullhfkiowp.biz</td>\n",
       "      <td>DGA</td>\n",
       "    </tr>\n",
       "    <tr>\n",
       "      <th>3</th>\n",
       "      <td>elkidddodxdly.ru</td>\n",
       "      <td>DGA</td>\n",
       "    </tr>\n",
       "    <tr>\n",
       "      <th>4</th>\n",
       "      <td>rnbfwuprlwfor.org</td>\n",
       "      <td>DGA</td>\n",
       "    </tr>\n",
       "  </tbody>\n",
       "</table>\n",
       "</div>"
      ],
      "text/plain": [
       "              domain  dga\n",
       "0  plvklpgwivery.com  DGA\n",
       "1  dnuxdhcgblsgy.net  DGA\n",
       "2  qjlullhfkiowp.biz  DGA\n",
       "3   elkidddodxdly.ru  DGA\n",
       "4  rnbfwuprlwfor.org  DGA"
      ]
     },
     "metadata": {},
     "output_type": "display_data"
    },
    {
     "data": {
      "text/plain": [
       "'Cisco feed sample: (1000000, 2)'"
      ]
     },
     "metadata": {},
     "output_type": "display_data"
    },
    {
     "data": {
      "text/html": [
       "<div>\n",
       "<style scoped>\n",
       "    .dataframe tbody tr th:only-of-type {\n",
       "        vertical-align: middle;\n",
       "    }\n",
       "\n",
       "    .dataframe tbody tr th {\n",
       "        vertical-align: top;\n",
       "    }\n",
       "\n",
       "    .dataframe thead th {\n",
       "        text-align: right;\n",
       "    }\n",
       "</style>\n",
       "<table border=\"1\" class=\"dataframe\">\n",
       "  <thead>\n",
       "    <tr style=\"text-align: right;\">\n",
       "      <th></th>\n",
       "      <th>domain</th>\n",
       "      <th>dga</th>\n",
       "    </tr>\n",
       "  </thead>\n",
       "  <tbody>\n",
       "    <tr>\n",
       "      <th>0</th>\n",
       "      <td>netflix.com</td>\n",
       "      <td>non-DGA</td>\n",
       "    </tr>\n",
       "    <tr>\n",
       "      <th>1</th>\n",
       "      <td>api-global.netflix.com</td>\n",
       "      <td>non-DGA</td>\n",
       "    </tr>\n",
       "    <tr>\n",
       "      <th>2</th>\n",
       "      <td>prod.netflix.com</td>\n",
       "      <td>non-DGA</td>\n",
       "    </tr>\n",
       "    <tr>\n",
       "      <th>3</th>\n",
       "      <td>push.prod.netflix.com</td>\n",
       "      <td>non-DGA</td>\n",
       "    </tr>\n",
       "    <tr>\n",
       "      <th>4</th>\n",
       "      <td>google.com</td>\n",
       "      <td>non-DGA</td>\n",
       "    </tr>\n",
       "  </tbody>\n",
       "</table>\n",
       "</div>"
      ],
      "text/plain": [
       "                   domain      dga\n",
       "0             netflix.com  non-DGA\n",
       "1  api-global.netflix.com  non-DGA\n",
       "2        prod.netflix.com  non-DGA\n",
       "3   push.prod.netflix.com  non-DGA\n",
       "4              google.com  non-DGA"
      ]
     },
     "metadata": {},
     "output_type": "display_data"
    }
   ],
   "source": [
    "# Remove unused columns, add output label 'dga'\n",
    "\n",
    "dga_df_slim =   dga_df.drop(columns=range(1,dga_df.shape[1]), inplace=False)\n",
    "dga_df_slim.columns = ['domain']\n",
    "cisco_df_slim = cisco_df.drop(columns=[0], inplace=False)\n",
    "cisco_df_slim.columns = ['domain']\n",
    "dga_df_slim['dga'] = name_DGA\n",
    "cisco_df_slim['dga'] = name_nonDGA\n",
    "\n",
    "display_df(dga_df_slim, cisco_df_slim)\n",
    "unified_df = pd.concat([cisco_df_slim, dga_df_slim], ignore_index=True)\n",
    "unified_df['dga'], labels = pd.factorize(unified_df['dga'], sort=True)   # binary factorization and potentially realigning the DGA categories\n",
    "with open(name_categories, 'wb') as catEnc:\n",
    "    pickle.dump(labels, catEnc, protocol=pickle.HIGHEST_PROTOCOL)"
   ]
  },
  {
   "cell_type": "code",
   "execution_count": 7,
   "metadata": {},
   "outputs": [],
   "source": [
    "# Separate input sequences (domains) and output labels (DGA 0/1), and do train/test split\n",
    "\n",
    "X = unified_df['domain']\n",
    "Y = unified_df['dga']\n",
    "X_train, X_test, Y_train, Y_test = train_test_split(X, Y, test_size=0.2,random_state=23)"
   ]
  },
  {
   "cell_type": "code",
   "execution_count": 38,
   "metadata": {},
   "outputs": [],
   "source": [
    "# Loss plotting function\n",
    "def plot_loss(hists, names):\n",
    "    colordict = {\n",
    "        0 : 'b',\n",
    "        1 : 'g',\n",
    "        2 : 'r',\n",
    "        3 : 'o',\n",
    "        4 : 'p'\n",
    "    }\n",
    "    \n",
    "    for i, hist in enumerate(hists):\n",
    "        plt.plot(hist['loss'], color=colordict[i], label=\"training \" + names[i])\n",
    "        plt.plot(hist['val_loss'], color=colordict[i], linestyle='--', label=\"validation \" + names[i])\n",
    "        plt.grid()\n",
    "        plt.legend()\n",
    "        plt.xlabel(\"epoch\")\n",
    "        plt.ylabel(\"RMSE\")\n",
    "        plt.yscale(\"log\")\n",
    "    plt.show()"
   ]
  },
  {
   "cell_type": "code",
   "execution_count": 18,
   "metadata": {
    "scrolled": false
   },
   "outputs": [
    {
     "name": "stdout",
     "output_type": "stream",
     "text": [
      "\n",
      "MODEL SUMMARY:\n",
      "_________________________________________________________________\n",
      "Layer (type)                 Output Shape              Param #   \n",
      "=================================================================\n",
      "embedding_5 (Embedding)      (None, 75, 128)           128000    \n",
      "_________________________________________________________________\n",
      "lstm_5 (LSTM)                (None, 128)               131584    \n",
      "_________________________________________________________________\n",
      "dropout_5 (Dropout)          (None, 128)               0         \n",
      "_________________________________________________________________\n",
      "dense_5 (Dense)              (None, 1)                 129       \n",
      "_________________________________________________________________\n",
      "activation_5 (Activation)    (None, 1)                 0         \n",
      "=================================================================\n",
      "Total params: 259,713\n",
      "Trainable params: 259,713\n",
      "Non-trainable params: 0\n",
      "_________________________________________________________________\n",
      "None\n",
      "Train on 995005 samples, validate on 110557 samples\n",
      "Epoch 1/10\n",
      "995005/995005 [==============================] - 1171s 1ms/step - loss: 0.0681 - val_loss: 0.0424\n",
      "Epoch 2/10\n",
      "995005/995005 [==============================] - 1095s 1ms/step - loss: 0.0413 - val_loss: 0.0387\n",
      "Epoch 3/10\n",
      "995005/995005 [==============================] - 1094s 1ms/step - loss: 0.0359 - val_loss: 0.0335\n",
      "Epoch 4/10\n",
      "995005/995005 [==============================] - 1098s 1ms/step - loss: 0.0333 - val_loss: 0.0348\n",
      "Epoch 5/10\n",
      "995005/995005 [==============================] - 1112s 1ms/step - loss: 0.0319 - val_loss: 0.0323\n",
      "Epoch 6/10\n",
      "995005/995005 [==============================] - 1130s 1ms/step - loss: 0.0309 - val_loss: 0.0321\n",
      "Epoch 7/10\n",
      "995005/995005 [==============================] - 1126s 1ms/step - loss: 0.0300 - val_loss: 0.0343\n",
      "Epoch 8/10\n",
      "995005/995005 [==============================] - 1121s 1ms/step - loss: 0.0292 - val_loss: 0.0352\n",
      "Epoch 9/10\n",
      "995005/995005 [==============================] - 1100s 1ms/step - loss: 0.0292 - val_loss: 0.0348\n",
      "Epoch 10/10\n",
      "995005/995005 [==============================] - 1105s 1ms/step - loss: 0.0290 - val_loss: 0.0339\n"
     ]
    }
   ],
   "source": [
    "# Binary classification LSTM model\n",
    "\n",
    "TRAIN_MODEL = True                                          # Load saved model otherwise\n",
    "num_epochs = 10                                             # epochs to train\n",
    "\n",
    "max_features = 1000                                         # length of vocabulary\n",
    "batch_size = 128                                            # input batch size\n",
    "max_seq_len = 75                                            # maximum char length of domain name\n",
    "val_split = 0.10                                            # fraction of training data to use for validation\n",
    "\n",
    "if TRAIN_MODEL != True:\n",
    "    file = open(name_model, 'r')\n",
    "    model_load = file.read()\n",
    "    file.close()\n",
    "    model = model_from_json(model_load)\n",
    "    model.load_weights(name_weights)\n",
    "    with open(name_encoder, 'rb') as tokenEnc:\n",
    "        encoder = pickle.load(tokenEnc)\n",
    "    with open(name_categories, 'rb') as catEnc:\n",
    "        labels = pickle.load(catEnc)\n",
    "    print('SKIPPED MODEL TRAINING.\\nSAVED MODEL IS NOW LOADED!')\n",
    "\n",
    "else:                                                        # train the model\n",
    "    # encode string characters to integers\n",
    "    encoder = text.Tokenizer(num_words=500, char_level=True)\n",
    "    encoder.fit_on_texts(X_train)                            # build character indices\n",
    "    X_train_tz = encoder.texts_to_sequences(X_train)\n",
    "    \n",
    "    # Model definition - this is the core model from Endgame\n",
    "    model=Sequential()\n",
    "    model.add(Embedding(max_features, 128, input_length=max_seq_len))\n",
    "    model.add(LSTM(128))\n",
    "    model.add(Dropout(0.5))\n",
    "    model.add(Dense(1))\n",
    "    model.add(Activation('sigmoid'))\n",
    "    model.compile(loss='binary_crossentropy', optimizer='rmsprop')\n",
    "    print(\"\\nMODEL SUMMARY:\")\n",
    "    print(model.summary())\n",
    "    \n",
    "    # Pad sequence where sequences are case insensitive characters encoded to\n",
    "    # integers from 0 to number of valid characters\n",
    "    X_train_pad=sequence.pad_sequences(X_train_tz, maxlen=75)\n",
    "    \n",
    "    # Training\n",
    "    model_hist = model.fit(X_train_pad, Y_train, batch_size=batch_size, epochs=num_epochs, validation_split=val_split)"
   ]
  },
  {
   "cell_type": "code",
   "execution_count": 39,
   "metadata": {
    "scrolled": false
   },
   "outputs": [
    {
     "name": "stdout",
     "output_type": "stream",
     "text": [
      "Metrics to be plotted:  dict_keys(['val_loss', 'loss'])\n"
     ]
    },
    {
     "data": {
      "image/png": "[encoded data removed]",
      "text/plain": [
       "<Figure size 432x288 with 1 Axes>"
      ]
     },
     "metadata": {},
     "output_type": "display_data"
    }
   ],
   "source": [
    "# plot model losses vs. epocs to inspect underfitting/overfitting\n",
    "\n",
    "if (TRAIN_MODEL == True) and (val_split != 0.0) and (num_epochs > 1):\n",
    "    print(\"Metrics to be plotted: \", model_hist.history.keys())\n",
    "    plot_loss([model_hist.history], ['model_V2'])"
   ]
  },
  {
   "cell_type": "code",
   "execution_count": 37,
   "metadata": {},
   "outputs": [
    {
     "name": "stdout",
     "output_type": "stream",
     "text": [
      "Model accuracy =   98.987 %\n"
     ]
    }
   ],
   "source": [
    "# Validation on test dataset\n",
    "# Compute prediction probabilities of classes \n",
    "\n",
    "X_test_pad = sequence.pad_sequences(encoder.texts_to_sequences(X_test), maxlen=max_seq_len)\n",
    "Y_pred1_prob = model.predict(X_test_pad)\n",
    "Y_pred_prob = np.hstack([1-Y_pred1_prob, Y_pred1_prob])   # in using sigmoid, the output probability is of class 1\n",
    "Y_pred = np.argmax(Y_pred_prob, axis=1)\n",
    "acc = accuracy_score(Y_test, Y_pred)\n",
    "print(\"Model accuracy = {:8.3f} %\".format(acc*100))"
   ]
  },
  {
   "cell_type": "code",
   "execution_count": 43,
   "metadata": {},
   "outputs": [
    {
     "name": "stdout",
     "output_type": "stream",
     "text": [
      "\n",
      "Correctly predicted Domains:\n"
     ]
    },
    {
     "data": {
      "text/html": [
       "<div>\n",
       "<style scoped>\n",
       "    .dataframe tbody tr th:only-of-type {\n",
       "        vertical-align: middle;\n",
       "    }\n",
       "\n",
       "    .dataframe tbody tr th {\n",
       "        vertical-align: top;\n",
       "    }\n",
       "\n",
       "    .dataframe thead th {\n",
       "        text-align: right;\n",
       "    }\n",
       "</style>\n",
       "<table border=\"1\" class=\"dataframe\">\n",
       "  <thead>\n",
       "    <tr style=\"text-align: right;\">\n",
       "      <th></th>\n",
       "      <th>domain</th>\n",
       "      <th>trueClass</th>\n",
       "      <th>predClass</th>\n",
       "      <th>predProb</th>\n",
       "    </tr>\n",
       "  </thead>\n",
       "  <tbody>\n",
       "    <tr>\n",
       "      <th>124546</th>\n",
       "      <td>ns47.domaincontrol.com</td>\n",
       "      <td>non-DGA</td>\n",
       "      <td>non-DGA</td>\n",
       "      <td>1.000000</td>\n",
       "    </tr>\n",
       "    <tr>\n",
       "      <th>660921</th>\n",
       "      <td>britishlibrary.typepad.co.uk</td>\n",
       "      <td>non-DGA</td>\n",
       "      <td>non-DGA</td>\n",
       "      <td>1.000000</td>\n",
       "    </tr>\n",
       "    <tr>\n",
       "      <th>446456</th>\n",
       "      <td>a538.casalemedia.com</td>\n",
       "      <td>non-DGA</td>\n",
       "      <td>non-DGA</td>\n",
       "      <td>1.000000</td>\n",
       "    </tr>\n",
       "    <tr>\n",
       "      <th>600919</th>\n",
       "      <td>ign-ar8de21s8pinm-8d3d0d118-4d8d69dgoogleplayd...</td>\n",
       "      <td>non-DGA</td>\n",
       "      <td>non-DGA</td>\n",
       "      <td>1.000000</td>\n",
       "    </tr>\n",
       "    <tr>\n",
       "      <th>1186650</th>\n",
       "      <td>gbggekvj.eu</td>\n",
       "      <td>DGA</td>\n",
       "      <td>DGA</td>\n",
       "      <td>0.958032</td>\n",
       "    </tr>\n",
       "    <tr>\n",
       "      <th>115543</th>\n",
       "      <td>ewr-66.ewr-rtb1.rfihub.com</td>\n",
       "      <td>non-DGA</td>\n",
       "      <td>non-DGA</td>\n",
       "      <td>1.000000</td>\n",
       "    </tr>\n",
       "    <tr>\n",
       "      <th>1360357</th>\n",
       "      <td>vsagkcaahpxrfbmqljnnxutj.com</td>\n",
       "      <td>DGA</td>\n",
       "      <td>DGA</td>\n",
       "      <td>0.999539</td>\n",
       "    </tr>\n",
       "    <tr>\n",
       "      <th>464912</th>\n",
       "      <td>static.bladeandsoul.com</td>\n",
       "      <td>non-DGA</td>\n",
       "      <td>non-DGA</td>\n",
       "      <td>1.000000</td>\n",
       "    </tr>\n",
       "    <tr>\n",
       "      <th>1097547</th>\n",
       "      <td>dlpyniywfxxp.com</td>\n",
       "      <td>DGA</td>\n",
       "      <td>DGA</td>\n",
       "      <td>0.998283</td>\n",
       "    </tr>\n",
       "    <tr>\n",
       "      <th>606453</th>\n",
       "      <td>trans11212.addressy.com</td>\n",
       "      <td>non-DGA</td>\n",
       "      <td>non-DGA</td>\n",
       "      <td>0.999999</td>\n",
       "    </tr>\n",
       "  </tbody>\n",
       "</table>\n",
       "</div>"
      ],
      "text/plain": [
       "                                                    domain trueClass  \\\n",
       "124546                              ns47.domaincontrol.com   non-DGA   \n",
       "660921                        britishlibrary.typepad.co.uk   non-DGA   \n",
       "446456                                a538.casalemedia.com   non-DGA   \n",
       "600919   ign-ar8de21s8pinm-8d3d0d118-4d8d69dgoogleplayd...   non-DGA   \n",
       "1186650                                        gbggekvj.eu       DGA   \n",
       "115543                          ewr-66.ewr-rtb1.rfihub.com   non-DGA   \n",
       "1360357                       vsagkcaahpxrfbmqljnnxutj.com       DGA   \n",
       "464912                             static.bladeandsoul.com   non-DGA   \n",
       "1097547                                   dlpyniywfxxp.com       DGA   \n",
       "606453                             trans11212.addressy.com   non-DGA   \n",
       "\n",
       "        predClass  predProb  \n",
       "124546    non-DGA  1.000000  \n",
       "660921    non-DGA  1.000000  \n",
       "446456    non-DGA  1.000000  \n",
       "600919    non-DGA  1.000000  \n",
       "1186650       DGA  0.958032  \n",
       "115543    non-DGA  1.000000  \n",
       "1360357       DGA  0.999539  \n",
       "464912    non-DGA  1.000000  \n",
       "1097547       DGA  0.998283  \n",
       "606453    non-DGA  0.999999  "
      ]
     },
     "metadata": {},
     "output_type": "display_data"
    },
    {
     "name": "stdout",
     "output_type": "stream",
     "text": [
      "\n",
      "Mis-predicted Domains:\n"
     ]
    },
    {
     "data": {
      "text/html": [
       "<div>\n",
       "<style scoped>\n",
       "    .dataframe tbody tr th:only-of-type {\n",
       "        vertical-align: middle;\n",
       "    }\n",
       "\n",
       "    .dataframe tbody tr th {\n",
       "        vertical-align: top;\n",
       "    }\n",
       "\n",
       "    .dataframe thead th {\n",
       "        text-align: right;\n",
       "    }\n",
       "</style>\n",
       "<table border=\"1\" class=\"dataframe\">\n",
       "  <thead>\n",
       "    <tr style=\"text-align: right;\">\n",
       "      <th></th>\n",
       "      <th>domain</th>\n",
       "      <th>trueClass</th>\n",
       "      <th>predClass</th>\n",
       "      <th>predProb</th>\n",
       "    </tr>\n",
       "  </thead>\n",
       "  <tbody>\n",
       "    <tr>\n",
       "      <th>894708</th>\n",
       "      <td>msfncsi.com</td>\n",
       "      <td>non-DGA</td>\n",
       "      <td>DGA</td>\n",
       "      <td>0.653247</td>\n",
       "    </tr>\n",
       "    <tr>\n",
       "      <th>610853</th>\n",
       "      <td>wvxlsagkeuye.ir</td>\n",
       "      <td>non-DGA</td>\n",
       "      <td>DGA</td>\n",
       "      <td>0.997970</td>\n",
       "    </tr>\n",
       "    <tr>\n",
       "      <th>1259769</th>\n",
       "      <td>gsilnc.net</td>\n",
       "      <td>DGA</td>\n",
       "      <td>non-DGA</td>\n",
       "      <td>0.927476</td>\n",
       "    </tr>\n",
       "    <tr>\n",
       "      <th>1376705</th>\n",
       "      <td>lyryrirc.com</td>\n",
       "      <td>DGA</td>\n",
       "      <td>non-DGA</td>\n",
       "      <td>0.567591</td>\n",
       "    </tr>\n",
       "    <tr>\n",
       "      <th>655678</th>\n",
       "      <td>1bxencbsmr.ddns.net</td>\n",
       "      <td>non-DGA</td>\n",
       "      <td>DGA</td>\n",
       "      <td>0.999997</td>\n",
       "    </tr>\n",
       "    <tr>\n",
       "      <th>1227223</th>\n",
       "      <td>ycarusapao.com</td>\n",
       "      <td>DGA</td>\n",
       "      <td>non-DGA</td>\n",
       "      <td>0.875733</td>\n",
       "    </tr>\n",
       "    <tr>\n",
       "      <th>961259</th>\n",
       "      <td>idiidowowowofjgjgisos.su</td>\n",
       "      <td>non-DGA</td>\n",
       "      <td>DGA</td>\n",
       "      <td>0.828195</td>\n",
       "    </tr>\n",
       "    <tr>\n",
       "      <th>1302961</th>\n",
       "      <td>bilvdat.me</td>\n",
       "      <td>DGA</td>\n",
       "      <td>non-DGA</td>\n",
       "      <td>0.936965</td>\n",
       "    </tr>\n",
       "    <tr>\n",
       "      <th>1268544</th>\n",
       "      <td>wsphoo.biz</td>\n",
       "      <td>DGA</td>\n",
       "      <td>non-DGA</td>\n",
       "      <td>0.617313</td>\n",
       "    </tr>\n",
       "    <tr>\n",
       "      <th>1140463</th>\n",
       "      <td>tessoskcqops.com</td>\n",
       "      <td>DGA</td>\n",
       "      <td>non-DGA</td>\n",
       "      <td>0.738413</td>\n",
       "    </tr>\n",
       "  </tbody>\n",
       "</table>\n",
       "</div>"
      ],
      "text/plain": [
       "                           domain trueClass predClass  predProb\n",
       "894708                msfncsi.com   non-DGA       DGA  0.653247\n",
       "610853            wvxlsagkeuye.ir   non-DGA       DGA  0.997970\n",
       "1259769                gsilnc.net       DGA   non-DGA  0.927476\n",
       "1376705              lyryrirc.com       DGA   non-DGA  0.567591\n",
       "655678        1bxencbsmr.ddns.net   non-DGA       DGA  0.999997\n",
       "1227223            ycarusapao.com       DGA   non-DGA  0.875733\n",
       "961259   idiidowowowofjgjgisos.su   non-DGA       DGA  0.828195\n",
       "1302961                bilvdat.me       DGA   non-DGA  0.936965\n",
       "1268544                wsphoo.biz       DGA   non-DGA  0.617313\n",
       "1140463          tessoskcqops.com       DGA   non-DGA  0.738413"
      ]
     },
     "metadata": {},
     "output_type": "display_data"
    },
    {
     "name": "stdout",
     "output_type": "stream",
     "text": [
      "\n",
      "Percentage of False Positives (i.e. nonDGA domains classified as DGA): 0.6842 %\n",
      "\n",
      "Percentage of False Negatives (i.e. DGA domains classified as nonDGA): 0.3289 %\n"
     ]
    }
   ],
   "source": [
    "# Inspect a few prediction probabilities\n",
    "\n",
    "pred_table = X_test.to_frame()\n",
    "pred_table.columns = ['domain']\n",
    "pred_table['trueClass'] = [labels[i] for i in Y_test]\n",
    "pred_table['predClass'] = [labels[i] for i in Y_pred]\n",
    "pred_table['predProb'] = [Y_pred_prob[idx][Y_pred[idx]] for idx in range(0, Y_pred.shape[0]) ]\n",
    "\n",
    "print('\\nCorrectly predicted Domains:')\n",
    "display(pred_table[pred_table['trueClass'] == pred_table['predClass'] ].head(10) )\n",
    "\n",
    "print('\\nMis-predicted Domains:')\n",
    "display(pred_table[pred_table['trueClass'] != pred_table['predClass'] ].head(10) )\n",
    "\n",
    "\n",
    "pred_table_FP = pred_table[(pred_table['trueClass'] == name_nonDGA) & (pred_table['predClass'] == name_DGA) ]\n",
    "print('\\nPercentage of False Positives (i.e. nonDGA domains classified as DGA): {:6.4f} %'\n",
    "      .format(100*pred_table_FP.shape[0]/pred_table.shape[0]))\n",
    "pred_table_FN = pred_table[(pred_table['trueClass'] == name_DGA) & (pred_table['predClass'] == name_nonDGA) ]\n",
    "print('\\nPercentage of False Negatives (i.e. DGA domains classified as nonDGA): {:6.4f} %'\n",
    "      .format(100*pred_table_FN.shape[0]/pred_table.shape[0]))"
   ]
  },
  {
   "cell_type": "code",
   "execution_count": 41,
   "metadata": {},
   "outputs": [
    {
     "name": "stdout",
     "output_type": "stream",
     "text": [
      "MODEL SAVED TO DISK!\n"
     ]
    }
   ],
   "source": [
    "# Save model and weights\n",
    "if TRAIN_MODEL == True:\n",
    "    model_save = model.to_json()\n",
    "    with open(name_model, 'w') as file:\n",
    "        file.write(model_save)\n",
    "    model.save_weights(name_weights)\n",
    "    with open(name_encoder, 'wb') as tokenEnc:\n",
    "        pickle.dump(encoder, tokenEnc, protocol=pickle.HIGHEST_PROTOCOL)\n",
    "    print('MODEL SAVED TO DISK!')\n",
    "else:\n",
    "    print('MODEL AREADY SAVED TO DISK.')"
   ]
  },
  {
   "cell_type": "markdown",
   "metadata": {},
   "source": [
    "## Look ahead and next steps:\n",
    "__1__ Look closer at the misclassified domains. Any particular DGA category stands out? What do we need to improve? \n",
    "\n",
    "__2__ Improving classification accuracy - more balanced dataset especially for the multiclass classification.\n",
    "\n",
    "__3__ Learning from scratch takes significant time. Need to implement model update in batches of new domain dataset.\n",
    "\n",
    "__4__ Modify the model to do multiclass classification across the various DGA categories. Do we need to trim down the categories - dataset shows 60+ categories and new ones may be added any time."
   ]
  },
  {
   "cell_type": "code",
   "execution_count": null,
   "metadata": {},
   "outputs": [],
   "source": []
  }
 ],
 "metadata": {
  "kernelspec": {
   "display_name": "Python 3",
   "language": "python",
   "name": "python3"
  },
  "language_info": {
   "codemirror_mode": {
    "name": "ipython",
    "version": 3
   },
   "file_extension": ".py",
   "mimetype": "text/x-python",
   "name": "python",
   "nbconvert_exporter": "python",
   "pygments_lexer": "ipython3",
   "version": "3.6.3"
  }
 },
 "nbformat": 4,
 "nbformat_minor": 2
}
