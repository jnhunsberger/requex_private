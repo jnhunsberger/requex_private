{
 "cells": [
  {
   "cell_type": "code",
   "execution_count": 314,
   "metadata": {},
   "outputs": [],
   "source": [
    "import pandas as pd\n",
    "import numpy as np\n",
    "import string\n",
    "import matplotlib.pyplot as plt\n",
    "from wordfreq import zipf_frequency"
   ]
  },
  {
   "cell_type": "code",
   "execution_count": 302,
   "metadata": {},
   "outputs": [],
   "source": [
    "# read DGA and Cisco high confidence data\n",
    "dga_df = pd.read_csv('..\\\\data\\\\2018_0923\\\\dga-feed-high.csv', header=None, skiprows=15)\n",
    "cisco_df = pd.read_csv('..\\\\data\\\\2018_0923\\\\top-1m.csv', header=None)"
   ]
  },
  {
   "cell_type": "code",
   "execution_count": 303,
   "metadata": {},
   "outputs": [
    {
     "data": {
      "text/plain": [
       "'DGA feed sample: (381953, 4)'"
      ]
     },
     "metadata": {},
     "output_type": "display_data"
    },
    {
     "data": {
      "text/html": [
       "<div>\n",
       "<style scoped>\n",
       "    .dataframe tbody tr th:only-of-type {\n",
       "        vertical-align: middle;\n",
       "    }\n",
       "\n",
       "    .dataframe tbody tr th {\n",
       "        vertical-align: top;\n",
       "    }\n",
       "\n",
       "    .dataframe thead th {\n",
       "        text-align: right;\n",
       "    }\n",
       "</style>\n",
       "<table border=\"1\" class=\"dataframe\">\n",
       "  <thead>\n",
       "    <tr style=\"text-align: right;\">\n",
       "      <th></th>\n",
       "      <th>0</th>\n",
       "      <th>1</th>\n",
       "      <th>2</th>\n",
       "      <th>3</th>\n",
       "    </tr>\n",
       "  </thead>\n",
       "  <tbody>\n",
       "    <tr>\n",
       "      <th>0</th>\n",
       "      <td>plvklpgwivery.com</td>\n",
       "      <td>Domain used by Cryptolocker - Flashback DGA fo...</td>\n",
       "      <td>2018-06-23</td>\n",
       "      <td>http://osint.bambenekconsulting.com/manual/cl.txt</td>\n",
       "    </tr>\n",
       "    <tr>\n",
       "      <th>1</th>\n",
       "      <td>dnuxdhcgblsgy.net</td>\n",
       "      <td>Domain used by Cryptolocker - Flashback DGA fo...</td>\n",
       "      <td>2018-06-23</td>\n",
       "      <td>http://osint.bambenekconsulting.com/manual/cl.txt</td>\n",
       "    </tr>\n",
       "    <tr>\n",
       "      <th>2</th>\n",
       "      <td>qjlullhfkiowp.biz</td>\n",
       "      <td>Domain used by Cryptolocker - Flashback DGA fo...</td>\n",
       "      <td>2018-06-23</td>\n",
       "      <td>http://osint.bambenekconsulting.com/manual/cl.txt</td>\n",
       "    </tr>\n",
       "    <tr>\n",
       "      <th>3</th>\n",
       "      <td>elkidddodxdly.ru</td>\n",
       "      <td>Domain used by Cryptolocker - Flashback DGA fo...</td>\n",
       "      <td>2018-06-23</td>\n",
       "      <td>http://osint.bambenekconsulting.com/manual/cl.txt</td>\n",
       "    </tr>\n",
       "    <tr>\n",
       "      <th>4</th>\n",
       "      <td>rnbfwuprlwfor.org</td>\n",
       "      <td>Domain used by Cryptolocker - Flashback DGA fo...</td>\n",
       "      <td>2018-06-23</td>\n",
       "      <td>http://osint.bambenekconsulting.com/manual/cl.txt</td>\n",
       "    </tr>\n",
       "  </tbody>\n",
       "</table>\n",
       "</div>"
      ],
      "text/plain": [
       "                   0                                                  1  \\\n",
       "0  plvklpgwivery.com  Domain used by Cryptolocker - Flashback DGA fo...   \n",
       "1  dnuxdhcgblsgy.net  Domain used by Cryptolocker - Flashback DGA fo...   \n",
       "2  qjlullhfkiowp.biz  Domain used by Cryptolocker - Flashback DGA fo...   \n",
       "3   elkidddodxdly.ru  Domain used by Cryptolocker - Flashback DGA fo...   \n",
       "4  rnbfwuprlwfor.org  Domain used by Cryptolocker - Flashback DGA fo...   \n",
       "\n",
       "            2                                                  3  \n",
       "0  2018-06-23  http://osint.bambenekconsulting.com/manual/cl.txt  \n",
       "1  2018-06-23  http://osint.bambenekconsulting.com/manual/cl.txt  \n",
       "2  2018-06-23  http://osint.bambenekconsulting.com/manual/cl.txt  \n",
       "3  2018-06-23  http://osint.bambenekconsulting.com/manual/cl.txt  \n",
       "4  2018-06-23  http://osint.bambenekconsulting.com/manual/cl.txt  "
      ]
     },
     "metadata": {},
     "output_type": "display_data"
    },
    {
     "data": {
      "text/plain": [
       "'Cisco feed sample: (1000000, 2)'"
      ]
     },
     "metadata": {},
     "output_type": "display_data"
    },
    {
     "data": {
      "text/html": [
       "<div>\n",
       "<style scoped>\n",
       "    .dataframe tbody tr th:only-of-type {\n",
       "        vertical-align: middle;\n",
       "    }\n",
       "\n",
       "    .dataframe tbody tr th {\n",
       "        vertical-align: top;\n",
       "    }\n",
       "\n",
       "    .dataframe thead th {\n",
       "        text-align: right;\n",
       "    }\n",
       "</style>\n",
       "<table border=\"1\" class=\"dataframe\">\n",
       "  <thead>\n",
       "    <tr style=\"text-align: right;\">\n",
       "      <th></th>\n",
       "      <th>0</th>\n",
       "      <th>1</th>\n",
       "    </tr>\n",
       "  </thead>\n",
       "  <tbody>\n",
       "    <tr>\n",
       "      <th>0</th>\n",
       "      <td>1</td>\n",
       "      <td>netflix.com</td>\n",
       "    </tr>\n",
       "    <tr>\n",
       "      <th>1</th>\n",
       "      <td>2</td>\n",
       "      <td>api-global.netflix.com</td>\n",
       "    </tr>\n",
       "    <tr>\n",
       "      <th>2</th>\n",
       "      <td>3</td>\n",
       "      <td>prod.netflix.com</td>\n",
       "    </tr>\n",
       "    <tr>\n",
       "      <th>3</th>\n",
       "      <td>4</td>\n",
       "      <td>push.prod.netflix.com</td>\n",
       "    </tr>\n",
       "    <tr>\n",
       "      <th>4</th>\n",
       "      <td>5</td>\n",
       "      <td>google.com</td>\n",
       "    </tr>\n",
       "  </tbody>\n",
       "</table>\n",
       "</div>"
      ],
      "text/plain": [
       "   0                       1\n",
       "0  1             netflix.com\n",
       "1  2  api-global.netflix.com\n",
       "2  3        prod.netflix.com\n",
       "3  4   push.prod.netflix.com\n",
       "4  5              google.com"
      ]
     },
     "metadata": {},
     "output_type": "display_data"
    },
    {
     "name": "stdout",
     "output_type": "stream",
     "text": [
      "(381953, 4)\n"
     ]
    }
   ],
   "source": [
    "# display head\n",
    "def display_df(dga_df_, cisco_df_):\n",
    "    display(\"DGA feed sample: {}\".format( dga_df_.shape) )\n",
    "    display(dga_df_.head())\n",
    "    display(\"Cisco feed sample: {}\".format( cisco_df_.shape) )\n",
    "    display(cisco_df_.head())\n",
    "\n",
    "display_df(dga_df, cisco_df)\n",
    "print(dga_df.shape)"
   ]
  },
  {
   "cell_type": "code",
   "execution_count": 304,
   "metadata": {},
   "outputs": [
    {
     "data": {
      "text/plain": [
       "'DGA feed sample: (381953, 2)'"
      ]
     },
     "metadata": {},
     "output_type": "display_data"
    },
    {
     "data": {
      "text/html": [
       "<div>\n",
       "<style scoped>\n",
       "    .dataframe tbody tr th:only-of-type {\n",
       "        vertical-align: middle;\n",
       "    }\n",
       "\n",
       "    .dataframe tbody tr th {\n",
       "        vertical-align: top;\n",
       "    }\n",
       "\n",
       "    .dataframe thead th {\n",
       "        text-align: right;\n",
       "    }\n",
       "</style>\n",
       "<table border=\"1\" class=\"dataframe\">\n",
       "  <thead>\n",
       "    <tr style=\"text-align: right;\">\n",
       "      <th></th>\n",
       "      <th>domain</th>\n",
       "      <th>dga</th>\n",
       "    </tr>\n",
       "  </thead>\n",
       "  <tbody>\n",
       "    <tr>\n",
       "      <th>0</th>\n",
       "      <td>plvklpgwivery.com</td>\n",
       "      <td>1</td>\n",
       "    </tr>\n",
       "    <tr>\n",
       "      <th>1</th>\n",
       "      <td>dnuxdhcgblsgy.net</td>\n",
       "      <td>1</td>\n",
       "    </tr>\n",
       "    <tr>\n",
       "      <th>2</th>\n",
       "      <td>qjlullhfkiowp.biz</td>\n",
       "      <td>1</td>\n",
       "    </tr>\n",
       "    <tr>\n",
       "      <th>3</th>\n",
       "      <td>elkidddodxdly.ru</td>\n",
       "      <td>1</td>\n",
       "    </tr>\n",
       "    <tr>\n",
       "      <th>4</th>\n",
       "      <td>rnbfwuprlwfor.org</td>\n",
       "      <td>1</td>\n",
       "    </tr>\n",
       "  </tbody>\n",
       "</table>\n",
       "</div>"
      ],
      "text/plain": [
       "              domain  dga\n",
       "0  plvklpgwivery.com    1\n",
       "1  dnuxdhcgblsgy.net    1\n",
       "2  qjlullhfkiowp.biz    1\n",
       "3   elkidddodxdly.ru    1\n",
       "4  rnbfwuprlwfor.org    1"
      ]
     },
     "metadata": {},
     "output_type": "display_data"
    },
    {
     "data": {
      "text/plain": [
       "'Cisco feed sample: (1000000, 2)'"
      ]
     },
     "metadata": {},
     "output_type": "display_data"
    },
    {
     "data": {
      "text/html": [
       "<div>\n",
       "<style scoped>\n",
       "    .dataframe tbody tr th:only-of-type {\n",
       "        vertical-align: middle;\n",
       "    }\n",
       "\n",
       "    .dataframe tbody tr th {\n",
       "        vertical-align: top;\n",
       "    }\n",
       "\n",
       "    .dataframe thead th {\n",
       "        text-align: right;\n",
       "    }\n",
       "</style>\n",
       "<table border=\"1\" class=\"dataframe\">\n",
       "  <thead>\n",
       "    <tr style=\"text-align: right;\">\n",
       "      <th></th>\n",
       "      <th>domain</th>\n",
       "      <th>dga</th>\n",
       "    </tr>\n",
       "  </thead>\n",
       "  <tbody>\n",
       "    <tr>\n",
       "      <th>0</th>\n",
       "      <td>netflix.com</td>\n",
       "      <td>0</td>\n",
       "    </tr>\n",
       "    <tr>\n",
       "      <th>1</th>\n",
       "      <td>api-global.netflix.com</td>\n",
       "      <td>0</td>\n",
       "    </tr>\n",
       "    <tr>\n",
       "      <th>2</th>\n",
       "      <td>prod.netflix.com</td>\n",
       "      <td>0</td>\n",
       "    </tr>\n",
       "    <tr>\n",
       "      <th>3</th>\n",
       "      <td>push.prod.netflix.com</td>\n",
       "      <td>0</td>\n",
       "    </tr>\n",
       "    <tr>\n",
       "      <th>4</th>\n",
       "      <td>google.com</td>\n",
       "      <td>0</td>\n",
       "    </tr>\n",
       "  </tbody>\n",
       "</table>\n",
       "</div>"
      ],
      "text/plain": [
       "                   domain  dga\n",
       "0             netflix.com    0\n",
       "1  api-global.netflix.com    0\n",
       "2        prod.netflix.com    0\n",
       "3   push.prod.netflix.com    0\n",
       "4              google.com    0"
      ]
     },
     "metadata": {},
     "output_type": "display_data"
    },
    {
     "data": {
      "text/html": [
       "<div>\n",
       "<style scoped>\n",
       "    .dataframe tbody tr th:only-of-type {\n",
       "        vertical-align: middle;\n",
       "    }\n",
       "\n",
       "    .dataframe tbody tr th {\n",
       "        vertical-align: top;\n",
       "    }\n",
       "\n",
       "    .dataframe thead th {\n",
       "        text-align: right;\n",
       "    }\n",
       "</style>\n",
       "<table border=\"1\" class=\"dataframe\">\n",
       "  <thead>\n",
       "    <tr style=\"text-align: right;\">\n",
       "      <th></th>\n",
       "      <th>domain</th>\n",
       "      <th>dga</th>\n",
       "      <th>scoreMetrics</th>\n",
       "    </tr>\n",
       "  </thead>\n",
       "  <tbody>\n",
       "    <tr>\n",
       "      <th>0</th>\n",
       "      <td>netflix.com</td>\n",
       "      <td>0</td>\n",
       "      <td>None</td>\n",
       "    </tr>\n",
       "    <tr>\n",
       "      <th>1</th>\n",
       "      <td>api-global.netflix.com</td>\n",
       "      <td>0</td>\n",
       "      <td>None</td>\n",
       "    </tr>\n",
       "    <tr>\n",
       "      <th>2</th>\n",
       "      <td>prod.netflix.com</td>\n",
       "      <td>0</td>\n",
       "      <td>None</td>\n",
       "    </tr>\n",
       "    <tr>\n",
       "      <th>3</th>\n",
       "      <td>push.prod.netflix.com</td>\n",
       "      <td>0</td>\n",
       "      <td>None</td>\n",
       "    </tr>\n",
       "    <tr>\n",
       "      <th>4</th>\n",
       "      <td>google.com</td>\n",
       "      <td>0</td>\n",
       "      <td>None</td>\n",
       "    </tr>\n",
       "  </tbody>\n",
       "</table>\n",
       "</div>"
      ],
      "text/plain": [
       "                   domain  dga scoreMetrics\n",
       "0             netflix.com    0         None\n",
       "1  api-global.netflix.com    0         None\n",
       "2        prod.netflix.com    0         None\n",
       "3   push.prod.netflix.com    0         None\n",
       "4              google.com    0         None"
      ]
     },
     "execution_count": 304,
     "metadata": {},
     "output_type": "execute_result"
    }
   ],
   "source": [
    "# remove unused columns, add otuput label 'dga'\n",
    "dga_df_slim =   dga_df.drop(columns=range(1,dga_df.shape[1]), inplace=False)\n",
    "dga_df_slim.columns = ['domain']\n",
    "cisco_df_slim = cisco_df.drop(columns=[0], inplace=False)\n",
    "cisco_df_slim.columns = ['domain']\n",
    "dga_df_slim['dga'] = 1\n",
    "cisco_df_slim['dga'] = 0\n",
    "\n",
    "display_df(dga_df_slim, cisco_df_slim)\n",
    "unified_df = pd.concat([cisco_df_slim, dga_df_slim], ignore_index=True)\n",
    "unified_df['scoreMetrics'] = None\n",
    "unified_df.head()"
   ]
  },
  {
   "cell_type": "code",
   "execution_count": 305,
   "metadata": {},
   "outputs": [],
   "source": [
    "# Functions to score the text - domain, or lables, and its segments\n",
    "\n",
    "NA_score = 100.0                                   # penalty score of a text not in vocabulary\n",
    "\n",
    "all_alphas = set(string.ascii_lowercase)\n",
    "valid_unigrams = set([])\n",
    "#valid_unigrams = set(['a', 'i', 'u'])\n",
    "invalid_unigrams = all_alphas - valid_unigrams\n",
    "\n",
    "def scoreTextSegment(iStart, iStop, text):\n",
    "    \"\"\" returns the score of a segment of text agaist the word frequency\n",
    "    \n",
    "    Args:\n",
    "        iStart: starting index within the input text\n",
    "        iStop:  starting index within the input text\n",
    "        text:   input text\n",
    "    Returns:\n",
    "        log probability score of the text segment\n",
    "    \"\"\"\n",
    "    global invalid_unigrams\n",
    "    global NA_score\n",
    "    \n",
    "    #if text[iStart:iStop] in invalid_unigrams:\n",
    "        #return NA_score\n",
    "    #elif iStop-iStart <= 2:\n",
    "    #    return NA_score\n",
    "    #else:\n",
    "    act_freq = zipf_frequency(text[iStart:iStop], 'en', 'small')\n",
    "    if act_freq == 0.0:\n",
    "        return NA_score\n",
    "    else:\n",
    "        return act_freq\n",
    "\n",
    "def scoreBestSegments(input_text, verbosity=0, scoreFn=scoreTextSegment):\n",
    "    \"\"\"optionally split the text to determine cutpoints for highest scoring\n",
    "\n",
    "    Args:\n",
    "      input_text: input text to segment\n",
    "      scoreFn:    a function that accepts \"start\" and \"stop\" segments of the text\n",
    "                  and gives back the score of the segment extending from [start, stop)\n",
    "    \n",
    "    Returns:\n",
    "      The best score determined from segmentation.\n",
    "    \"\"\"\n",
    "    n = len(input_text)\n",
    "    leftScore = []\n",
    "    distinct_segs = set()\n",
    "\n",
    "    for k in range(n + 1):\n",
    "        leftScore.append((scoreFn(0, k, input_text), []))\n",
    "        last_idx = 0\n",
    "        \n",
    "        for j in range(k):\n",
    "            \n",
    "            newScore = leftScore[j][0] + scoreFn(j, k, input_text)\n",
    "            if( newScore <  leftScore[k][0] ):\n",
    "                \n",
    "                if verbosity >= 4:\n",
    "                    print(\"For K ={:2d} found better split at: {:2d}, Old : {:10.2f} New =  {:10.2f}, {:s}\"\n",
    "                          .format(k,j, leftScore[k][0], newScore, input_text[last_idx:j]))\n",
    "                \n",
    "                leftScore[k] = ( newScore, leftScore[j][1] + [j] )\n",
    "                last_idx = j\n",
    "        \n",
    "        if verbosity >= 4:\n",
    "            print(\"Final split for K= {:2d} = {}\\n\".format(k, leftScore[k][1]))\n",
    "    \n",
    "    last_idx = 0\n",
    "    for i in leftScore[n][1]:\n",
    "        distinct_segs.update([(input_text[last_idx:i])])\n",
    "        last_idx = i\n",
    "    distinct_segs.update([input_text[last_idx:]])\n",
    "\n",
    "    return leftScore[n][0], leftScore[n][1], distinct_segs\n",
    "\n"
   ]
  },
  {
   "cell_type": "code",
   "execution_count": 306,
   "metadata": {},
   "outputs": [],
   "source": [
    "# Printing functions\n",
    "\n",
    "def segment_and_print(inpText, verbosity=0):\n",
    "    \"\"\"Prints the segments of text\n",
    "       \n",
    "       Args:\n",
    "           text: input text to optimally segment\n",
    "        \n",
    "       Returns:\n",
    "           text segmentation output\n",
    "    \"\"\"\n",
    "    score, segment_list, dontcare = scoreBestSegments(inpText, verbosity=verbosity)\n",
    "    last_idx = 0\n",
    "    print(\"\\nSegmented text for '{}':\".format(inpText))\n",
    "    for idx in segment_list:\n",
    "        print(inpText[last_idx:int(idx)], end=' ')\n",
    "        last_idx = int(idx)\n",
    "    print(inpText[last_idx:])\n",
    "\n",
    "def print_segments(inpText, segment_list):\n",
    "    \"\"\"Prints the segments of text\n",
    "       \n",
    "       Args:\n",
    "           text: input text to optimally segment\n",
    "           segment_list: a list of boundary indices of the segments\n",
    "        \n",
    "       Returns:\n",
    "           text segmentation output\n",
    "    \"\"\"\n",
    "    last_idx = 0\n",
    "    for idx in segment_list:\n",
    "        print(inpText[last_idx:idx], end=' ')\n",
    "        last_idx = idx\n",
    "    print(inpText[last_idx:l])"
   ]
  },
  {
   "cell_type": "code",
   "execution_count": 307,
   "metadata": {},
   "outputs": [],
   "source": [
    "# Wrapper function for scoring domain \n",
    "\n",
    "def scoreDomain(inRow, verbosity=0):\n",
    "    \"\"\" Splits the domain by labels (dot separator) and\n",
    "        optimally segments each label into words based on \n",
    "        word frequency (wordfreq) corpus.\n",
    "        \n",
    "        Args:\n",
    "            inRow: input row of the domain dataframe\n",
    "        \n",
    "        Returns:\n",
    "            score: scoring of the domain\n",
    "    \"\"\"\n",
    "    thisDomain = inRow['domain']\n",
    "    if verbosity >= 2:\n",
    "        print(\"\\n\", \"=\"*5, thisDomain, \"=\"*5)\n",
    "    \n",
    "    labels = thisDomain.lower().split('.')  # separate the domain labels\n",
    "    thisScore = []\n",
    "    unique_words = set()\n",
    "    for i,label in enumerate(labels):\n",
    "        iScore, iSegs, word_set = scoreBestSegments(label, verbosity)\n",
    "        thisScore.append(iScore)\n",
    "        unique_words.update(word_set)\n",
    "        if verbosity >= 2:\n",
    "            print(\"Score for label '{:30s}' = {:6.3f}, unique_words = {:d} {}\"\n",
    "                  .format(label, thisScore[i], len(word_set), word_set))\n",
    "    \n",
    "    return [sum(thisScore),                      # return total score for the domain\n",
    "            sum(thisScore) / len(thisDomain),    # total score normalized bu domain length\n",
    "            len(unique_words),                   # return number of unique words in domain\n",
    "            len(unique_words) / len(thisDomain)] # return number of unique words in domain normalized by its length\n",
    "            \n",
    "            "
   ]
  },
  {
   "cell_type": "code",
   "execution_count": 308,
   "metadata": {
    "scrolled": true
   },
   "outputs": [
    {
     "name": "stdout",
     "output_type": "stream",
     "text": [
      "\n",
      "--Text segmentation--\n",
      "\n",
      "Segmented text for 'myfavouritethings.com':\n",
      "my favourite things .com\n",
      "\n",
      "--Domain scoring--\n",
      "\n",
      " ===== thisisarandomdomain.edu.com.biz.xyz =====\n",
      "Score for label 'thisisarandomdomain           ' = 19.330, unique_words = 4 {'domain', 'this', 'random', 'isa'}\n",
      "Score for label 'edu                           ' =  9.820, unique_words = 2 {'ed', 'u'}\n",
      "Score for label 'com                           ' =  4.060, unique_words = 1 {'com'}\n",
      "Score for label 'biz                           ' =  3.120, unique_words = 1 {'biz'}\n",
      "Score for label 'xyz                           ' = 14.560, unique_words = 3 {'y', 'x', 'z'}\n"
     ]
    },
    {
     "data": {
      "text/plain": [
       "0    [50.89, 1.454, 11, 0.3142857142857143]\n",
       "dtype: object"
      ]
     },
     "execution_count": 308,
     "metadata": {},
     "output_type": "execute_result"
    }
   ],
   "source": [
    "# Testing segmentation code\n",
    "print(\"\\n--Text segmentation--\")\n",
    "random_domain = 'myfavouritethings.com'\n",
    "segment_and_print(random_domain, verbosity=1)\n",
    "\n",
    "print(\"\\n--Domain scoring--\")\n",
    "another_domain = pd.DataFrame('thisisarandomdomain.edu.com.biz.xyz', index=[0], columns=['domain'])\n",
    "another_domain.apply( lambda row: scoreDomain(row, verbosity=2), axis=1 )"
   ]
  },
  {
   "cell_type": "code",
   "execution_count": 383,
   "metadata": {
    "scrolled": false
   },
   "outputs": [
    {
     "data": {
      "text/html": [
       "<div>\n",
       "<style scoped>\n",
       "    .dataframe tbody tr th:only-of-type {\n",
       "        vertical-align: middle;\n",
       "    }\n",
       "\n",
       "    .dataframe tbody tr th {\n",
       "        vertical-align: top;\n",
       "    }\n",
       "\n",
       "    .dataframe thead th {\n",
       "        text-align: right;\n",
       "    }\n",
       "</style>\n",
       "<table border=\"1\" class=\"dataframe\">\n",
       "  <thead>\n",
       "    <tr style=\"text-align: right;\">\n",
       "      <th></th>\n",
       "      <th>domain</th>\n",
       "      <th>dga</th>\n",
       "      <th>scoreMetrics</th>\n",
       "    </tr>\n",
       "  </thead>\n",
       "  <tbody>\n",
       "    <tr>\n",
       "      <th>862683</th>\n",
       "      <td>dailygistnr.com</td>\n",
       "      <td>0</td>\n",
       "      <td>None</td>\n",
       "    </tr>\n",
       "    <tr>\n",
       "      <th>1023312</th>\n",
       "      <td>19kezjp1ntx0ut1k70vpz15cbe8y.org</td>\n",
       "      <td>1</td>\n",
       "      <td>None</td>\n",
       "    </tr>\n",
       "    <tr>\n",
       "      <th>547983</th>\n",
       "      <td>ip50646154.ahcdn.com</td>\n",
       "      <td>0</td>\n",
       "      <td>None</td>\n",
       "    </tr>\n",
       "    <tr>\n",
       "      <th>159887</th>\n",
       "      <td>m14.sdactdp.me</td>\n",
       "      <td>0</td>\n",
       "      <td>None</td>\n",
       "    </tr>\n",
       "    <tr>\n",
       "      <th>173255</th>\n",
       "      <td>sk-bts-anx-r003.teamviewer.com</td>\n",
       "      <td>0</td>\n",
       "      <td>None</td>\n",
       "    </tr>\n",
       "  </tbody>\n",
       "</table>\n",
       "</div>"
      ],
      "text/plain": [
       "                                   domain  dga scoreMetrics\n",
       "862683                    dailygistnr.com    0         None\n",
       "1023312  19kezjp1ntx0ut1k70vpz15cbe8y.org    1         None\n",
       "547983               ip50646154.ahcdn.com    0         None\n",
       "159887                     m14.sdactdp.me    0         None\n",
       "173255     sk-bts-anx-r003.teamviewer.com    0         None"
      ]
     },
     "metadata": {},
     "output_type": "display_data"
    },
    {
     "name": "stdout",
     "output_type": "stream",
     "text": [
      "After scoring:\n",
      "\n"
     ]
    },
    {
     "data": {
      "text/html": [
       "<div>\n",
       "<style scoped>\n",
       "    .dataframe tbody tr th:only-of-type {\n",
       "        vertical-align: middle;\n",
       "    }\n",
       "\n",
       "    .dataframe tbody tr th {\n",
       "        vertical-align: top;\n",
       "    }\n",
       "\n",
       "    .dataframe thead th {\n",
       "        text-align: right;\n",
       "    }\n",
       "</style>\n",
       "<table border=\"1\" class=\"dataframe\">\n",
       "  <thead>\n",
       "    <tr style=\"text-align: right;\">\n",
       "      <th></th>\n",
       "      <th>domain</th>\n",
       "      <th>dga</th>\n",
       "      <th>scoreMetrics</th>\n",
       "    </tr>\n",
       "  </thead>\n",
       "  <tbody>\n",
       "    <tr>\n",
       "      <th>862683</th>\n",
       "      <td>dailygistnr.com</td>\n",
       "      <td>0</td>\n",
       "      <td>[15.629999999999999, 1.042, 4, 0.2666666666666...</td>\n",
       "    </tr>\n",
       "    <tr>\n",
       "      <th>1023312</th>\n",
       "      <td>19kezjp1ntx0ut1k70vpz15cbe8y.org</td>\n",
       "      <td>1</td>\n",
       "      <td>[70.26, 2.195625, 17, 0.53125]</td>\n",
       "    </tr>\n",
       "    <tr>\n",
       "      <th>547983</th>\n",
       "      <td>ip50646154.ahcdn.com</td>\n",
       "      <td>0</td>\n",
       "      <td>[26.23, 1.3115, 6, 0.3]</td>\n",
       "    </tr>\n",
       "    <tr>\n",
       "      <th>159887</th>\n",
       "      <td>m14.sdactdp.me</td>\n",
       "      <td>0</td>\n",
       "      <td>[22.94, 1.6385714285714286, 5, 0.3571428571428...</td>\n",
       "    </tr>\n",
       "    <tr>\n",
       "      <th>173255</th>\n",
       "      <td>sk-bts-anx-r003.teamviewer.com</td>\n",
       "      <td>0</td>\n",
       "      <td>[23.819999999999997, 0.7939999999999999, 6, 0.2]</td>\n",
       "    </tr>\n",
       "  </tbody>\n",
       "</table>\n",
       "</div>"
      ],
      "text/plain": [
       "                                   domain  dga  \\\n",
       "862683                    dailygistnr.com    0   \n",
       "1023312  19kezjp1ntx0ut1k70vpz15cbe8y.org    1   \n",
       "547983               ip50646154.ahcdn.com    0   \n",
       "159887                     m14.sdactdp.me    0   \n",
       "173255     sk-bts-anx-r003.teamviewer.com    0   \n",
       "\n",
       "                                              scoreMetrics  \n",
       "862683   [15.629999999999999, 1.042, 4, 0.2666666666666...  \n",
       "1023312                     [70.26, 2.195625, 17, 0.53125]  \n",
       "547983                             [26.23, 1.3115, 6, 0.3]  \n",
       "159887   [22.94, 1.6385714285714286, 5, 0.3571428571428...  \n",
       "173255    [23.819999999999997, 0.7939999999999999, 6, 0.2]  "
      ]
     },
     "metadata": {},
     "output_type": "display_data"
    }
   ],
   "source": [
    "debug_verbose = 1\n",
    "samples = 1000000\n",
    "\n",
    "#sampled_df = unified_df\n",
    "sampled_df = unified_df.sample(n=samples, random_state=3)\n",
    "\n",
    "if debug_verbose:\n",
    "    display(sampled_df.head(5))\n",
    "\n",
    "sampled_df.scoreMetrics = sampled_df.apply( lambda row: scoreDomain(row, verbosity=debug_verbose), axis=1 )\n",
    "\n",
    "if debug_verbose:\n",
    "    print(\"After scoring:\\n\")\n",
    "    display(sampled_df.head(5))"
   ]
  },
  {
   "cell_type": "code",
   "execution_count": 384,
   "metadata": {},
   "outputs": [
    {
     "data": {
      "text/plain": [
       "1023312                       [70.26, 2.195625, 17, 0.53125]\n",
       "1336996                  [23.509999999999998, 2.351, 5, 0.5]\n",
       "1050442    [85.89, 2.9617241379310344, 16, 0.551724137931...\n",
       "1046035    [73.84, 2.4613333333333336, 17, 0.566666666666...\n",
       "1232358    [37.31, 2.1947058823529413, 9, 0.5294117647058...\n",
       "Name: scoreMetrics, dtype: object"
      ]
     },
     "metadata": {},
     "output_type": "display_data"
    },
    {
     "data": {
      "text/plain": [
       "862683    [15.629999999999999, 1.042, 4, 0.2666666666666...\n",
       "547983                              [26.23, 1.3115, 6, 0.3]\n",
       "159887    [22.94, 1.6385714285714286, 5, 0.3571428571428...\n",
       "173255     [23.819999999999997, 0.7939999999999999, 6, 0.2]\n",
       "975214    [50.3, 0.9862745098039215, 11, 0.2156862745098...\n",
       "Name: scoreMetrics, dtype: object"
      ]
     },
     "metadata": {},
     "output_type": "display_data"
    }
   ],
   "source": [
    "# group score metrics by dga or non-dga \n",
    "sc_dga = sampled_df[sampled_df['dga']==1]['scoreMetrics']\n",
    "display(sc_dga.head())\n",
    "sc_nondga = sampled_df[sampled_df['dga']==0]['scoreMetrics']\n",
    "display(sc_nondga.head())"
   ]
  },
  {
   "cell_type": "code",
   "execution_count": 385,
   "metadata": {},
   "outputs": [],
   "source": [
    "def retrieve_score( dframe, scoreIdx):\n",
    "    return list(dframe.apply( lambda x: x[scoreIdx]))"
   ]
  },
  {
   "cell_type": "code",
   "execution_count": 390,
   "metadata": {},
   "outputs": [],
   "source": [
    "def plot_hists(dga_df, nondga_df, scoreType=0, scoreText='', title=''):\n",
    "    legend = ['DGA', 'non-DGA']\n",
    "    \n",
    "    plt.figure(figsize=(12,6))\n",
    "    dga_scores = retrieve_score(dga_df, scoreType)\n",
    "    nondga_scores = retrieve_score(nondga_df, scoreType)\n",
    "    plt.hist([dga_scores, nondga_scores], bins=100, color=['red', 'blue'] )\n",
    "    #plt.xticks(range(0, 500))\n",
    "    #plt.yticks(range(1, 2000))\n",
    "    plt.xlabel(scoreText)\n",
    "    plt.ylabel(\"Frequency\")\n",
    "    plt.legend(legend)\n",
    "    plt.title(title)\n",
    "    plt.show()"
   ]
  },
  {
   "cell_type": "code",
   "execution_count": 391,
   "metadata": {},
   "outputs": [
    {
     "data": {
      "image/png": "[encoded data removed]",
      "text/plain": [
       "<Figure size 864x432 with 1 Axes>"
      ]
     },
     "metadata": {},
     "output_type": "display_data"
    }
   ],
   "source": [
    "plot_hists(sc_dga, sc_nondga, 0, 'Raw probability score', \n",
    "           'Scoring DGA/non-DGA based on word frequency/probabilities')"
   ]
  },
  {
   "cell_type": "code",
   "execution_count": 392,
   "metadata": {},
   "outputs": [
    {
     "data": {
      "image/png": "[encoded data removed]",
      "text/plain": [
       "<Figure size 864x432 with 1 Axes>"
      ]
     },
     "metadata": {},
     "output_type": "display_data"
    }
   ],
   "source": [
    "plot_hists(sc_dga, sc_nondga, 1, 'Normalized probability score', \n",
    "           'Scoring DGA/non-DGA based on word frequency/probabilities normalized by domain length')"
   ]
  },
  {
   "cell_type": "code",
   "execution_count": 393,
   "metadata": {},
   "outputs": [
    {
     "data": {
      "image/png": "[encoded data removed]",
      "text/plain": [
       "<Figure size 864x432 with 1 Axes>"
      ]
     },
     "metadata": {},
     "output_type": "display_data"
    }
   ],
   "source": [
    "plot_hists(sc_dga, sc_nondga, 2, 'Distinct words', \n",
    "           'Scoring DGA/non-DGA based on number of distinct word segments')"
   ]
  },
  {
   "cell_type": "code",
   "execution_count": 394,
   "metadata": {},
   "outputs": [
    {
     "data": {
      "image/png": "[encoded data removed]",
      "text/plain": [
       "<Figure size 864x432 with 1 Axes>"
      ]
     },
     "metadata": {},
     "output_type": "display_data"
    }
   ],
   "source": [
    "plot_hists(sc_dga, sc_nondga, 1, 'Normalized number of distinct words', \n",
    "           'Scoring DGA/non-DGA based on number of distinct words normalized by domain length')"
   ]
  },
  {
   "cell_type": "code",
   "execution_count": null,
   "metadata": {},
   "outputs": [],
   "source": []
  }
 ],
 "metadata": {
  "kernelspec": {
   "display_name": "Python 3",
   "language": "python",
   "name": "python3"
  },
  "language_info": {
   "codemirror_mode": {
    "name": "ipython",
    "version": 3
   },
   "file_extension": ".py",
   "mimetype": "text/x-python",
   "name": "python",
   "nbconvert_exporter": "python",
   "pygments_lexer": "ipython3",
   "version": "3.6.3"
  }
 },
 "nbformat": 4,
 "nbformat_minor": 2
}
